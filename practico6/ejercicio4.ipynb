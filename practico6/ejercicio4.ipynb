{
 "cells": [
  {
   "cell_type": "markdown",
   "metadata": {},
   "source": [
    "# Auxiliares"
   ]
  },
  {
   "cell_type": "code",
   "execution_count": 117,
   "metadata": {},
   "outputs": [],
   "source": [
    "from scipy.stats import uniform, norm\n",
    "import matplotlib.pyplot as plt\n",
    "import numpy as np"
   ]
  },
  {
   "cell_type": "code",
   "execution_count": 129,
   "metadata": {},
   "outputs": [],
   "source": [
    "def N_var():\n",
    "    suma, n = 0, 0\n",
    "    while suma < 1:\n",
    "        n += 1\n",
    "        suma += uniform.rvs()\n",
    "    return n\n",
    "\n",
    "def ejercicio4b(nsim, rand_var):\n",
    "    mean = rand_var()\n",
    "    var = 0\n",
    "    i = 1\n",
    "    while (i < nsim):\n",
    "        s = rand_var()\n",
    "        mean_old = mean\n",
    "        mean = mean_old + (s - mean_old)/(i + 1)\n",
    "        var = (1 - 1/i)*var + (i+1)*(mean_old - mean)**2\n",
    "        i += 1\n",
    "    return i, mean, var\n",
    "\n",
    "def ejercicio4c(fun, conf, l):\n",
    "    z = - norm.ppf((1-conf)/2)\n",
    "    d = l / (2*z)\n",
    "    mean = fun()\n",
    "    var = 0\n",
    "    i = 1\n",
    "    while (i < 100 or (var/i)**(1/2) >= d):\n",
    "        s = fun()\n",
    "        mean_old = mean\n",
    "        mean = mean_old + (s - mean_old)/(i + 1)\n",
    "        var = (1 - 1/i)*var + (i+1)*(mean_old - mean)**2\n",
    "        i += 1\n",
    "    return i, mean, var"
   ]
  },
  {
   "cell_type": "markdown",
   "metadata": {},
   "source": [
    "# Respuestas"
   ]
  },
  {
   "cell_type": "code",
   "execution_count": 119,
   "metadata": {},
   "outputs": [
    {
     "name": "stdout",
     "output_type": "stream",
     "text": [
      "Con 1000 simulaciones se obtuvo que la media muestral es 2.746000000000006 y su varianza es 0.0008163003003002956\n"
     ]
    }
   ],
   "source": [
    "nsim_1, e_est_1, s_est_1 = ejercicio4b(1_000, N_var)\n",
    "print(f'Con {nsim_1} simulaciones se obtuvo que la media muestral es {e_est_1} y su varianza es {s_est_1/nsim_1}')"
   ]
  },
  {
   "cell_type": "code",
   "execution_count": 133,
   "metadata": {},
   "outputs": [
    {
     "name": "stdout",
     "output_type": "stream",
     "text": [
      "Intervalo de Confianza (95.0%): (2.702,2.723) largo 0.020979950350921303\n",
      "Con 18843 simulaciones se obtuvo que la media muestral es 2.712466167807672 y su varianza es 4.0671894962622956e-05\n"
     ]
    }
   ],
   "source": [
    "conf, largo = 0.95, 0.025\n",
    "nsim_2, e_est_2, s_est_2 = ejercicio4c(N_var, conf, largo)\n",
    "c = norm.ppf(conf)*(s_est_2/nsim_2)**(1/2)\n",
    "print(f'Intervalo de Confianza ({conf*100}%): ({e_est_2 - c:.5},{e_est_2 + c:.5}) largo {2*c}')\n",
    "print(f'Con {nsim_2} simulaciones se obtuvo que la media muestral es {e_est_2} y su varianza es {s_est_2/nsim_2}')"
   ]
  }
 ],
 "metadata": {
  "kernelspec": {
   "display_name": "Python 3",
   "language": "python",
   "name": "python3"
  },
  "language_info": {
   "codemirror_mode": {
    "name": "ipython",
    "version": 3
   },
   "file_extension": ".py",
   "mimetype": "text/x-python",
   "name": "python",
   "nbconvert_exporter": "python",
   "pygments_lexer": "ipython3",
   "version": "3.10.12"
  }
 },
 "nbformat": 4,
 "nbformat_minor": 2
}

{
 "cells": [
  {
   "cell_type": "code",
   "execution_count": 19,
   "metadata": {},
   "outputs": [],
   "source": [
    "from scipy.stats import uniform\n",
    "import numpy as np"
   ]
  },
  {
   "cell_type": "code",
   "execution_count": 20,
   "metadata": {},
   "outputs": [],
   "source": [
    "MIN_SAMPLES = 100\n",
    "\n",
    "def print_res(name, nsim, res, var, real):\n",
    "    print(f'Funcion {name}' )\n",
    "    print(f'\\t| Real\\t       {real}') \n",
    "    print(f'\\t| Calculado    {res}') \n",
    "    print(f'\\t| Diferencia   {abs(real - res)}')\n",
    "    print(f'\\t| Simulaciones {nsim}')\n",
    "    print(f'\\t| S            {var}')\n",
    "\n",
    "def estadistico(fun, d):\n",
    "    np.random.seed(1000)\n",
    "    mean = fun(uniform.rvs())\n",
    "    var = 0\n",
    "    i = 1\n",
    "    while (i < MIN_SAMPLES or (var/i)**(1/2) >= d):\n",
    "        s = fun(uniform.rvs())\n",
    "        mean_old = mean\n",
    "        mean = mean_old + (s - mean_old)/(i + 1)\n",
    "        var = (1 - 1/i)*var + (i+1)*(mean_old - mean)**2\n",
    "        i += 1\n",
    "    return i, mean, var"
   ]
  },
  {
   "cell_type": "code",
   "execution_count": 21,
   "metadata": {},
   "outputs": [],
   "source": [
    "def sum_uno(x):\n",
    "    ret, n = 0, 0\n",
    "    while ret < 1:\n",
    "        n += 1\n",
    "        ret += uniform.rvs()\n",
    "    return n"
   ]
  },
  {
   "cell_type": "code",
   "execution_count": 22,
   "metadata": {},
   "outputs": [
    {
     "name": "stdout",
     "output_type": "stream",
     "text": [
      "Funcion Euler\n",
      "\t| Real\t       2.718281828459045\n",
      "\t| Calculado    2.726907630522093\n",
      "\t| Diferencia   0.00862580206304786\n",
      "\t| Simulaciones 1245\n",
      "\t| S            0.7774506385671286\n"
     ]
    }
   ],
   "source": [
    "res = estadistico(sum_uno, 0.025)\n",
    "print_res('Euler', res[0], res[1], res[2], np.e)"
   ]
  }
 ],
 "metadata": {
  "kernelspec": {
   "display_name": "Python 3",
   "language": "python",
   "name": "python3"
  },
  "language_info": {
   "codemirror_mode": {
    "name": "ipython",
    "version": 3
   },
   "file_extension": ".py",
   "mimetype": "text/x-python",
   "name": "python",
   "nbconvert_exporter": "python",
   "pygments_lexer": "ipython3",
   "version": "3.10.12"
  }
 },
 "nbformat": 4,
 "nbformat_minor": 2
}

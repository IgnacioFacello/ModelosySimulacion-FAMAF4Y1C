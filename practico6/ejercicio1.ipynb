{
 "cells": [
  {
   "cell_type": "markdown",
   "metadata": {},
   "source": [
    "# Auxiliares"
   ]
  },
  {
   "cell_type": "code",
   "execution_count": 1,
   "metadata": {},
   "outputs": [],
   "source": [
    "from scipy.stats import norm\n",
    "import numpy as np\n",
    "\n",
    "def mean_rec(i, old, new):\n",
    "    return old + (new - old) / (i + 1)\n",
    "\n",
    "def var_rec(n, var_old, mean_old, mean_new):\n",
    "    return (1-1/n) * var_old + (n+1) *(mean_new - mean_old)**2\n"
   ]
  },
  {
   "cell_type": "code",
   "execution_count": 2,
   "metadata": {},
   "outputs": [],
   "source": [
    "def estad_mean(rand, d):\n",
    "    np.random.seed(1000)\n",
    "    mean = rand()\n",
    "    var = 0\n",
    "    i = 1\n",
    "    while (i < 100 or (var/i)**(1/2) >= d):\n",
    "        s = rand()\n",
    "        mean_old = mean\n",
    "        mean = mean_old + (s - mean_old)/(i + 1)\n",
    "        var = (1 - 1/i)*var + (i+1)*(mean_old - mean)**2\n",
    "        i += 1\n",
    "\n",
    "    return i, mean, var"
   ]
  },
  {
   "cell_type": "markdown",
   "metadata": {},
   "source": [
    "# Resultados"
   ]
  },
  {
   "cell_type": "code",
   "execution_count": 5,
   "metadata": {},
   "outputs": [
    {
     "name": "stdout",
     "output_type": "stream",
     "text": [
      "Resultados\n",
      "\tDatos generados:   111\n",
      "\tMedia muestral:    0.05066250741422036\n",
      "\tVarianza muestral: 1.1085222242409152\n",
      "\n"
     ]
    }
   ],
   "source": [
    "res = estad_mean(norm.rvs, 0.1)\n",
    "print('Resultados\\n' + \n",
    "      f'\\tDatos generados:   {res[0]}\\n' + \n",
    "      f'\\tMedia muestral:    {res[1]}\\n' + \n",
    "      f'\\tVarianza muestral: {res[2]}\\n'\n",
    "      )"
   ]
  }
 ],
 "metadata": {
  "kernelspec": {
   "display_name": "Python 3",
   "language": "python",
   "name": "python3"
  },
  "language_info": {
   "codemirror_mode": {
    "name": "ipython",
    "version": 3
   },
   "file_extension": ".py",
   "mimetype": "text/x-python",
   "name": "python",
   "nbconvert_exporter": "python",
   "pygments_lexer": "ipython3",
   "version": "3.12.3"
  }
 },
 "nbformat": 4,
 "nbformat_minor": 2
}

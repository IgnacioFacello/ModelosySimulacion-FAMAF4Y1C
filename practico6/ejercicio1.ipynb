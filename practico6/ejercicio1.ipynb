{
 "cells": [
  {
   "cell_type": "code",
   "execution_count": 2,
   "metadata": {},
   "outputs": [],
   "source": [
    "from scipy.stats import norm\n",
    "import numpy as np\n",
    "\n",
    "def mean_rec(i, old, new):\n",
    "    return old + (new - old) / (i + 1)\n",
    "\n",
    "def var_rec(n, var_old, mean_old, mean_new):\n",
    "    return (1-1/n) * var_old + (n+1) *(mean_new - mean_old)**2"
   ]
  },
  {
   "cell_type": "code",
   "execution_count": 5,
   "metadata": {},
   "outputs": [
    {
     "data": {
      "text/plain": [
       "(0.05251129917878456, 0.003272306708668081)"
      ]
     },
     "execution_count": 5,
     "metadata": {},
     "output_type": "execute_result"
    }
   ],
   "source": [
    "i, mean, var = 0, 0, 0\n",
    "samples = []\n",
    "\n",
    "np.random.seed(1000)\n",
    "while i <= 100:\n",
    "    s = norm.rvs()\n",
    "    samples.append(s)\n",
    "    aux = mean + ((s - mean) / (i + 1))\n",
    "    if i > 0:\n",
    "        var = (1 - 1/i) * var + (i+1) *(aux - mean)**2\n",
    "    else:\n",
    "        var = (i+1) *(aux - mean)**2\n",
    "    i += 1\n",
    "    mean = aux\n",
    "\n",
    "mean, var"
   ]
  },
  {
   "cell_type": "code",
   "execution_count": 4,
   "metadata": {},
   "outputs": [
    {
     "data": {
      "text/plain": [
       "(0.05251129917878453, 1.0983446408782398)"
      ]
     },
     "execution_count": 4,
     "metadata": {},
     "output_type": "execute_result"
    }
   ],
   "source": [
    "np.mean(samples), np.var(samples)"
   ]
  }
 ],
 "metadata": {
  "kernelspec": {
   "display_name": "Python 3",
   "language": "python",
   "name": "python3"
  },
  "language_info": {
   "codemirror_mode": {
    "name": "ipython",
    "version": 3
   },
   "file_extension": ".py",
   "mimetype": "text/x-python",
   "name": "python",
   "nbconvert_exporter": "python",
   "pygments_lexer": "ipython3",
   "version": "3.10.12"
  }
 },
 "nbformat": 4,
 "nbformat_minor": 2
}

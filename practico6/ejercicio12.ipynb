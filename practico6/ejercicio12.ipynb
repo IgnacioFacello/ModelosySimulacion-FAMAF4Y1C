{
 "cells": [
  {
   "cell_type": "markdown",
   "metadata": {},
   "source": [
    "Dado que tenemos una muestra $X$ y la distribucion esperada de la rueda si esta es justa, podemos utilizar el metodo de Pearson para verificar que la muestra se ajuste a lo esperado. Dado un $T$ estadistico discreto, calcularemos el p-valor para verificar que la muestra efectivamente provenga de la distribucion esperada.\n",
    "\n",
    "Tomamos $H_0=$ La muestra proviene a la distribucion esperada\n",
    "\n",
    "Tomamos $H_1=$ La muestra No proviene la distribucion esperada\n",
    "\n",
    "Vamos a tomar un nivel de confianza del 95% "
   ]
  },
  {
   "cell_type": "code",
   "execution_count": 35,
   "metadata": {},
   "outputs": [],
   "source": [
    "from scipy.stats import chi2, binom\n",
    "import numpy as np\n",
    "\n",
    "MUESTRA = [ 188,138,87,65,48,32,30,34,13,2 ]\n",
    "P_H0 = [ x/100 for x in [31,22,12,10,8,6,4,4,2,1]]\n",
    "\n",
    "def calcular_estadistico(muestra, p_h0):\n",
    "    n = sum(muestra)\n",
    "    k = len(muestra)\n",
    "    t = 0\n",
    "    for i in range(k):\n",
    "        t += ((muestra[i] - n*p_h0[i])**2) / (n*p_h0[i])\n",
    "    return t\n",
    "\n",
    "def calcular_p_valor(t_est, k, m):\n",
    "    return  1 - chi2.cdf(t_est, k-1-m)\n",
    "\n",
    "def simular_p_valor(nsim, muestra, p_h0, t_est):\n",
    "    total = sum(muestra)\n",
    "    k = len(muestra)\n",
    "    p_sim = 0\n",
    "    for _ in range(nsim):\n",
    "        acc = np.zeros(k, int)\n",
    "        for i in range(k):\n",
    "            p = p_h0[i] / (1 - sum(p_h0[:i]))\n",
    "            n = total - sum(acc)\n",
    "            acc[i] = binom.rvs(n, p)\n",
    "        t_sim = calcular_estadistico(acc, p_h0)\n",
    "        if t_sim > t_est:\n",
    "            p_sim += 1/nsim  \n",
    "    return p_sim"
   ]
  },
  {
   "cell_type": "code",
   "execution_count": 36,
   "metadata": {},
   "outputs": [
    {
     "data": {
      "text/plain": [
       "9.810370888711903"
      ]
     },
     "execution_count": 36,
     "metadata": {},
     "output_type": "execute_result"
    }
   ],
   "source": [
    "T_EST = calcular_estadistico(MUESTRA, P_H0)\n",
    "T_EST"
   ]
  },
  {
   "cell_type": "code",
   "execution_count": 37,
   "metadata": {},
   "outputs": [
    {
     "name": "stdout",
     "output_type": "stream",
     "text": [
      "Usando el metodo de Pearson\n",
      "El p-valor de la muestra es 0.28\n"
     ]
    }
   ],
   "source": [
    "p_valor = calcular_p_valor(T_EST, len(MUESTRA)-1, 0)\n",
    "print('Usando el metodo de Pearson')\n",
    "print(f'El p-valor de la muestra es {p_valor:.2}')"
   ]
  },
  {
   "cell_type": "markdown",
   "metadata": {},
   "source": [
    "Dado que $p-valor=0.28 \\ge 0.05=1-0.95$ entonces no podemos descartar que la muestra provenga de la distribucion esperada"
   ]
  },
  {
   "cell_type": "code",
   "execution_count": 39,
   "metadata": {},
   "outputs": [
    {
     "name": "stdout",
     "output_type": "stream",
     "text": [
      "Usando el metodo de Simulacion\n",
      "El p-valor de la muestra es 0.37\n"
     ]
    }
   ],
   "source": [
    "p_valor = simular_p_valor(10_000, MUESTRA, P_H0, T_EST)\n",
    "print('Usando el metodo de Simulacion')\n",
    "print(f'El p-valor de la muestra es {p_valor:.2}')"
   ]
  }
 ],
 "metadata": {
  "kernelspec": {
   "display_name": "Python 3",
   "language": "python",
   "name": "python3"
  },
  "language_info": {
   "codemirror_mode": {
    "name": "ipython",
    "version": 3
   },
   "file_extension": ".py",
   "mimetype": "text/x-python",
   "name": "python",
   "nbconvert_exporter": "python",
   "pygments_lexer": "ipython3",
   "version": "3.10.12"
  }
 },
 "nbformat": 4,
 "nbformat_minor": 2
}

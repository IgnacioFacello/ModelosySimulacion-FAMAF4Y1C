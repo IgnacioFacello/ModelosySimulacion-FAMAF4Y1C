{
 "cells": [
  {
   "cell_type": "code",
   "execution_count": 121,
   "metadata": {},
   "outputs": [],
   "source": [
    "from scipy.stats import chi2, uniform, binom\n",
    "\n",
    "MUESTRA = [\n",
    "    141, # Blanco\n",
    "    291, # Rosa\n",
    "    132, # Rojo\n",
    "]\n",
    "\n",
    "P = [\n",
    "    1/4, # Blanco\n",
    "    1/2, # Rosa\n",
    "    1/4, # Rojo\n",
    "]\n"
   ]
  },
  {
   "cell_type": "code",
   "execution_count": 122,
   "metadata": {},
   "outputs": [],
   "source": [
    "def calcular_estadistico(muestra):\n",
    "    total = sum(muestra)\n",
    "    t_est = 0\n",
    "    for i in range(len(muestra)):\n",
    "        n_i = muestra[i]\n",
    "        np_i = total * P[i]\n",
    "        t_est += (n_i - np_i)**2 / np_i\n",
    "    return t_est\n",
    "    \n",
    "\n",
    "def calcular_p_valor(t_est, k):\n",
    "    return  1 - chi2.cdf(t_est, k-1)\n",
    "\n",
    "def simular_p_valor():\n",
    "    t_est = calcular_estadistico(MUESTRA)\n",
    "    total = sum(MUESTRA)\n",
    "    p_sim, nsim = 0, 10_000\n",
    "    for _ in range(nsim):\n",
    "        acc = [0,0,0]\n",
    "\n",
    "        p = P[0]\n",
    "        acc[0] = binom.rvs(total, p)\n",
    "\n",
    "        p = P[1] / (1-P[0])\n",
    "        acc[1] = binom.rvs(total - acc[0], p)\n",
    "\n",
    "        p = P[2] / (1-P[0]-P[1])\n",
    "        acc[2] = binom.rvs(total - (acc[0] + acc[1]), p)\n",
    "\n",
    "        t_sim = calcular_estadistico(acc)\n",
    "        if t_sim > t_est:\n",
    "            p_sim += 1/10_000  \n",
    "    return p_sim"
   ]
  },
  {
   "cell_type": "code",
   "execution_count": 123,
   "metadata": {},
   "outputs": [
    {
     "name": "stdout",
     "output_type": "stream",
     "text": [
      "Usando el metodo de Pearson\n",
      "El p-valor de la muestra es 0.65\n"
     ]
    }
   ],
   "source": [
    "t_est = calcular_estadistico(MUESTRA)\n",
    "p_valor = calcular_p_valor(t_est, len(MUESTRA))\n",
    "print('Usando el metodo de Pearson')\n",
    "print(f'El p-valor de la muestra es {p_valor:.2}')"
   ]
  },
  {
   "cell_type": "code",
   "execution_count": 125,
   "metadata": {},
   "outputs": [
    {
     "name": "stdout",
     "output_type": "stream",
     "text": [
      "Usando el metodo de Simulacion con 10.000 simulaciones\n",
      "El p-valor de la muestra es 0.64\n"
     ]
    }
   ],
   "source": [
    "p_sim = simular_p_valor()\n",
    "print('Usando el metodo de Simulacion con 10.000 simulaciones')\n",
    "print(f'El p-valor de la muestra es {p_sim:.2}')"
   ]
  }
 ],
 "metadata": {
  "kernelspec": {
   "display_name": "Python 3",
   "language": "python",
   "name": "python3"
  },
  "language_info": {
   "codemirror_mode": {
    "name": "ipython",
    "version": 3
   },
   "file_extension": ".py",
   "mimetype": "text/x-python",
   "name": "python",
   "nbconvert_exporter": "python",
   "pygments_lexer": "ipython3",
   "version": "3.10.12"
  }
 },
 "nbformat": 4,
 "nbformat_minor": 2
}

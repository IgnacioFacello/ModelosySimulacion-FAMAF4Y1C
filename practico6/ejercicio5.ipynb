{
 "cells": [
  {
   "cell_type": "code",
   "execution_count": null,
   "metadata": {},
   "outputs": [],
   "source": [
    "from scipy.stats import uniform\n",
    "\n",
    "def M_var():\n",
    "    suma, n = 0, 0\n",
    "    while suma < 1:\n",
    "        n += 1\n",
    "        suma += uniform.rvs()\n",
    "    return n"
   ]
  }
 ],
 "metadata": {
  "language_info": {
   "name": "python"
  }
 },
 "nbformat": 4,
 "nbformat_minor": 2
}

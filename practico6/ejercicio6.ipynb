{
 "cells": [
  {
   "cell_type": "code",
   "execution_count": 28,
   "metadata": {},
   "outputs": [],
   "source": [
    "from scipy.stats import uniform, norm\n",
    "\n",
    "def estadistico(fun, d):\n",
    "    mean = fun(uniform.rvs(), uniform.rvs())\n",
    "    var = 0\n",
    "    i = 1\n",
    "    while (i < 100 or (var/i)**(1/2) >= d):\n",
    "        s = fun(uniform.rvs(), uniform.rvs())\n",
    "        mean_old = mean\n",
    "        mean = mean_old + (s - mean_old)/(i + 1)\n",
    "        var = (1 - 1/i)*var + (i+1)*(mean_old - mean)**2\n",
    "        i += 1\n",
    "    return i, mean, var\n",
    "\n",
    "def ejercicio6a(d):\n",
    "    fun = lambda x,y : 1 if x**2+y**2 <= 1 else 0\n",
    "    mean = fun(uniform.rvs(), uniform.rvs())\n",
    "    var = 0\n",
    "    i = 1\n",
    "    while (i < 100 or (var/i)**(1/2) >= d):\n",
    "        s = fun(uniform.rvs(), uniform.rvs())\n",
    "        mean_old = mean\n",
    "        mean = mean_old + (s - mean_old)/(i + 1)\n",
    "        var = (1 - 1/i)*var + (i+1)*(mean_old - mean)**2\n",
    "        i += 1\n",
    "    return i, mean*4, var\n",
    "\n",
    "def ejercicio6b(conf, l):\n",
    "    fun = lambda x,y : 1 if x**2+y**2 <= 1 else 0\n",
    "    z = - norm.ppf((1-conf)/2)\n",
    "    d = l / (2*z)\n",
    "    mean = fun(uniform.rvs(), uniform.rvs())\n",
    "    var = 0\n",
    "    i = 1\n",
    "    while (i < 100 or (var/i)**(1/2) >= d):\n",
    "        s = fun(uniform.rvs(), uniform.rvs())\n",
    "        mean_old = mean\n",
    "        mean = mean_old + (s - mean_old)/(i + 1)\n",
    "        var = (1 - 1/i)*var + (i+1)*(mean_old - mean)**2\n",
    "        i += 1\n",
    "    return i, mean*4, var"
   ]
  },
  {
   "cell_type": "code",
   "execution_count": 34,
   "metadata": {},
   "outputs": [
    {
     "name": "stdout",
     "output_type": "stream",
     "text": [
      "Nro de Simulaciones: 1663\n",
      "Estimacion de pi: 3.1581479254359563\n",
      "Varianza muestral del resultado: 0.16626831737403594\n"
     ]
    }
   ],
   "source": [
    "nsim_1, e_est_1, s_est_1 = ejercicio6a(0.01)\n",
    "print(f'Nro de Simulaciones: {nsim_1}')\n",
    "print(f'Estimacion de pi: {e_est_1}')\n",
    "print(f'Varianza muestral del resultado: {s_est_1}')"
   ]
  },
  {
   "cell_type": "code",
   "execution_count": 35,
   "metadata": {},
   "outputs": [
    {
     "name": "stdout",
     "output_type": "stream",
     "text": [
      "Intervalo de Confianza (95.0%): (3.136,3.2197) largo 0.08374061795908287\n",
      "Nro de Simulaciones: 253\n",
      "Estimacion de pi: 3.1778656126482234\n",
      "Varianza muestral del resultado: 0.16393751176359858\n"
     ]
    }
   ],
   "source": [
    "conf, largo = 0.95, 0.1\n",
    "nsim_2, e_est_2, s_est_2 = ejercicio6b(conf, largo)\n",
    "c = norm.ppf(conf)*(s_est_2/nsim_2)**(1/2)\n",
    "print(f'Intervalo de Confianza ({conf*100}%): ({e_est_2 - c:.5},{e_est_2 + c:.5}) largo {2*c}')\n",
    "print(f'Nro de Simulaciones: {nsim_2}')\n",
    "print(f'Estimacion de pi: {e_est_2}')\n",
    "print(f'Varianza muestral del resultado: {s_est_2}')"
   ]
  }
 ],
 "metadata": {
  "kernelspec": {
   "display_name": "MyS-Practicos",
   "language": "python",
   "name": "python3"
  },
  "language_info": {
   "codemirror_mode": {
    "name": "ipython",
    "version": 3
   },
   "file_extension": ".py",
   "mimetype": "text/x-python",
   "name": "python",
   "nbconvert_exporter": "python",
   "pygments_lexer": "ipython3",
   "version": "3.12.3"
  }
 },
 "nbformat": 4,
 "nbformat_minor": 2
}

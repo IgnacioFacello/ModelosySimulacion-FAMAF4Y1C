{
 "cells": [
  {
   "cell_type": "code",
   "execution_count": 23,
   "metadata": {},
   "outputs": [],
   "source": [
    "from scipy.stats import expon, uniform\n",
    "\n",
    "import numpy as np\n",
    "\n",
    "np.random.seed(1000)\n",
    "\n",
    "MUESTRAS = sorted(expon.rvs(size=100, scale=1))\n",
    "\n",
    "def calcular_estadistico(muestra, f_h0):\n",
    "    ''' Estadistico de Kolmogorov-Smirnov\n",
    "    '''\n",
    "    n = len(muestra)\n",
    "    f_mi = f_h0(muestra[0])\n",
    "    d_est = max([1/n - f_mi,f_mi])\n",
    "    for i in range(1, n):\n",
    "        f_mi = f_h0(muestra[i])\n",
    "        d_est = max([d_est, (i+1)/n - f_mi,f_mi - i/n ])\n",
    "    return d_est\n",
    "\n",
    "def simular_p_valor(nsim, k, d_est):\n",
    "    ''' Calculo de p usando nsim simulaciones de k v.a.s\n",
    "    '''\n",
    "    ds = []\n",
    "    for _ in range(nsim):\n",
    "        muestra = sorted(uniform.rvs(size=k))\n",
    "        d_sim = calcular_estadistico(muestra, lambda x : uniform.cdf(x))\n",
    "        ds.append(d_sim)\n",
    "    return sum([ 1 for d in ds if d >= d_est])/nsim"
   ]
  },
  {
   "cell_type": "code",
   "execution_count": 24,
   "metadata": {},
   "outputs": [
    {
     "name": "stdout",
     "output_type": "stream",
     "text": [
      "0.06380205584783627\n",
      "0.7819\n"
     ]
    }
   ],
   "source": [
    "d = calcular_estadistico(MUESTRAS, lambda x : expon.cdf(x, scale=1))\n",
    "print(d)\n",
    "p = simular_p_valor(10_000, len(MUESTRAS), d)\n",
    "print(p)"
   ]
  }
 ],
 "metadata": {
  "kernelspec": {
   "display_name": "Python 3",
   "language": "python",
   "name": "python3"
  },
  "language_info": {
   "codemirror_mode": {
    "name": "ipython",
    "version": 3
   },
   "file_extension": ".py",
   "mimetype": "text/x-python",
   "name": "python",
   "nbconvert_exporter": "python",
   "pygments_lexer": "ipython3",
   "version": "3.10.12"
  }
 },
 "nbformat": 4,
 "nbformat_minor": 2
}

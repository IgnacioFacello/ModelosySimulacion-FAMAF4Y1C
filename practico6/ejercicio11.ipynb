{
 "cells": [
  {
   "cell_type": "code",
   "execution_count": 13,
   "metadata": {},
   "outputs": [],
   "source": [
    "from scipy.stats import binom, uniform, chi2\n",
    "from pprint import pprint as pp\n",
    "import numpy as np\n",
    "\n",
    "MUESTRA = sorted([ 6,7,3,4,7,3,7,2,6,3,7,8,2,1,3,5,8,7 ])\n",
    "\n",
    "P_H0 = lambda x, p : binom.pmf(k=x, n=8, p=p)\n",
    "F_H0 = lambda x, p : binom.cmf(k=x, n=8, p=p)\n",
    "\n",
    "def estimar_proporcion(muestra, n):\n",
    "    return np.mean(muestra)/n\n",
    "\n",
    "def calcular_estadistico(muestra, p_h0):\n",
    "    N_is = { 0 : 0 }\n",
    "    for i in muestra:\n",
    "        N_is[i] = N_is.get(i,0) + 1\n",
    "    n = sum(N_is.values())\n",
    "    t = 0\n",
    "    for i in N_is.keys():\n",
    "        t += ((N_is[i] - n*p_h0(i))**2) / (n*p_h0(i))\n",
    "    return t\n",
    "\n",
    "def calcular_p_valor(t_est, k):\n",
    "    return  1 - chi2.cdf(t_est, k-1)"
   ]
  },
  {
   "cell_type": "code",
   "execution_count": 14,
   "metadata": {},
   "outputs": [
    {
     "data": {
      "text/plain": [
       "0.0"
      ]
     },
     "execution_count": 14,
     "metadata": {},
     "output_type": "execute_result"
    }
   ],
   "source": [
    "P_EST = estimar_proporcion(MUESTRA, 8)\n",
    "P_EST - 89/144"
   ]
  },
  {
   "cell_type": "code",
   "execution_count": 15,
   "metadata": {},
   "outputs": [
    {
     "data": {
      "text/plain": [
       "31.49933093415532"
      ]
     },
     "execution_count": 15,
     "metadata": {},
     "output_type": "execute_result"
    }
   ],
   "source": [
    "T_EST = calcular_estadistico(MUESTRA, lambda x : P_H0(x, P_EST))\n",
    "T_EST"
   ]
  },
  {
   "cell_type": "code",
   "execution_count": 16,
   "metadata": {},
   "outputs": [
    {
     "name": "stdout",
     "output_type": "stream",
     "text": [
      "Usando el metodo de Pearson\n",
      "El p-valor de la muestra es 0.012\n"
     ]
    }
   ],
   "source": [
    "p_valor = calcular_p_valor(T_EST, len(MUESTRA)-1)\n",
    "print('Usando el metodo de Pearson')\n",
    "print(f'El p-valor de la muestra es {p_valor:.2}')"
   ]
  }
 ],
 "metadata": {
  "kernelspec": {
   "display_name": "Python 3",
   "language": "python",
   "name": "python3"
  },
  "language_info": {
   "codemirror_mode": {
    "name": "ipython",
    "version": 3
   },
   "file_extension": ".py",
   "mimetype": "text/x-python",
   "name": "python",
   "nbconvert_exporter": "python",
   "pygments_lexer": "ipython3",
   "version": "3.10.12"
  }
 },
 "nbformat": 4,
 "nbformat_minor": 2
}

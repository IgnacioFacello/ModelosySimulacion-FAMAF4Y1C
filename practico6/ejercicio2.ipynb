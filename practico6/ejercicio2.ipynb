{
 "cells": [
  {
   "cell_type": "code",
   "execution_count": 5,
   "metadata": {},
   "outputs": [],
   "source": [
    "from scipy.stats import uniform\n",
    "import numpy as np"
   ]
  },
  {
   "cell_type": "code",
   "execution_count": 6,
   "metadata": {},
   "outputs": [],
   "source": [
    "def montecarlo_inf(fun, nsim):\n",
    "    ''' Funcion para el metodo de montecarlo en el intervalo [0, inf]\n",
    "    '''\n",
    "    integral=0\n",
    "    for u in uniform.rvs(size=nsim):\n",
    "        integral+= fun(1/u-1)/(u**2)\n",
    "    return integral/nsim\n",
    "\n",
    "def montecarlo_01(g, nsim):\n",
    "    ''' Funcion para el metodo de montecarlo en el intervalo [0, 1]\n",
    "    '''\n",
    "    integral = 0\n",
    "    for u in uniform.rvs(size=nsim):\n",
    "        integral += g(u)\n",
    "    return integral/nsim"
   ]
  },
  {
   "cell_type": "code",
   "execution_count": 7,
   "metadata": {},
   "outputs": [],
   "source": [
    "def g1(y):\n",
    "    return np.exp(y) / (2*y)**(1/2) \n",
    "\n",
    "def g2(y):\n",
    "    x = (1/y-1)\n",
    "    return x**2 * np.exp(-x**2) * (y**2)\n",
    "\n",
    "def estadistico(fun, d):\n",
    "    np.random.seed(1000)\n",
    "    mean = fun(uniform.rvs())\n",
    "    var = 0\n",
    "    i = 1\n",
    "    while (i < 100 or (var/i)**(1/2) >= d):\n",
    "        s = fun(uniform.rvs())\n",
    "        mean_old = mean\n",
    "        mean = mean_old + (s - mean_old)/(i + 1)\n",
    "        var = (1 - 1/i)*var + (i+1)*(mean_old - mean)**2\n",
    "        i += 1\n",
    "\n",
    "    return i, mean, var"
   ]
  },
  {
   "cell_type": "code",
   "execution_count": 8,
   "metadata": {},
   "outputs": [
    {
     "data": {
      "text/plain": [
       "(30827, 2.0612521628201015, 3.0826526284029465)"
      ]
     },
     "execution_count": 8,
     "metadata": {},
     "output_type": "execute_result"
    }
   ],
   "source": [
    "estadistico(g1, 0.01)"
   ]
  },
  {
   "cell_type": "code",
   "execution_count": 9,
   "metadata": {},
   "outputs": [
    {
     "data": {
      "text/plain": [
       "(100, 0.03455526127636005, 0.0014074044585165523)"
      ]
     },
     "execution_count": 9,
     "metadata": {},
     "output_type": "execute_result"
    }
   ],
   "source": [
    "estadistico(g2, 0.01)"
   ]
  },
  {
   "cell_type": "code",
   "execution_count": null,
   "metadata": {},
   "outputs": [],
   "source": []
  }
 ],
 "metadata": {
  "kernelspec": {
   "display_name": "Python 3",
   "language": "python",
   "name": "python3"
  },
  "language_info": {
   "codemirror_mode": {
    "name": "ipython",
    "version": 3
   },
   "file_extension": ".py",
   "mimetype": "text/x-python",
   "name": "python",
   "nbconvert_exporter": "python",
   "pygments_lexer": "ipython3",
   "version": "3.10.12"
  }
 },
 "nbformat": 4,
 "nbformat_minor": 2
}

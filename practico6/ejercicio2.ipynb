{
 "cells": [
  {
   "cell_type": "markdown",
   "metadata": {},
   "source": [
    "# Auxiliares"
   ]
  },
  {
   "cell_type": "code",
   "execution_count": 1,
   "metadata": {},
   "outputs": [],
   "source": [
    "from scipy.stats import uniform\n",
    "import numpy as np"
   ]
  },
  {
   "cell_type": "code",
   "execution_count": 2,
   "metadata": {},
   "outputs": [],
   "source": [
    "def montecarlo_inf(fun, nsim):\n",
    "    ''' Funcion para el metodo de montecarlo en el intervalo [0, inf]\n",
    "    '''\n",
    "    integral=0\n",
    "    for u in uniform.rvs(size=nsim):\n",
    "        integral+= fun(1/u-1)/(u**2)\n",
    "    return integral/nsim\n",
    "\n",
    "def montecarlo_01(g, nsim):\n",
    "    ''' Funcion para el metodo de montecarlo en el intervalo [0, 1]\n",
    "    '''\n",
    "    integral = 0\n",
    "    for u in uniform.rvs(size=nsim):\n",
    "        integral += g(u)\n",
    "    return integral/nsim"
   ]
  },
  {
   "cell_type": "markdown",
   "metadata": {},
   "source": [
    "Dado que el metodo de Montecarlo realiza la estimacion como $E[f(X)]$ podemos usar un estadistico para estimar $\\hat E[f(X)]$"
   ]
  },
  {
   "cell_type": "code",
   "execution_count": 3,
   "metadata": {},
   "outputs": [],
   "source": [
    "MIN_SAMPLES = 100\n",
    "\n",
    "def print_res(name, res, real):\n",
    "    nsim, obt, var = res\n",
    "    print(f'Funcion {name}' )\n",
    "    print(f'\\t| Real\\t   {real}') \n",
    "    print(f'\\t| Obtenido {obt}') \n",
    "    print(f'\\t| Simulaciones {nsim}')\n",
    "\n",
    "def g1(y):\n",
    "    return np.exp(y) / (2*y)**(1/2) \n",
    "\n",
    "def g2(x):\n",
    "    return x**2 * np.exp(-x**2)\n",
    "    \n",
    "def g2_01(y):\n",
    "    # Reemplazo de variable x = 1/y - 1, dx = 1/y**2 dy\n",
    "    x = (1/y-1)\n",
    "    dx = (y**2) \n",
    "    # Multiplicamos por dos por (-inf,0) U (0,inf)\n",
    "    return 2 * g2(x) / dx\n",
    "\n",
    "def estadistico(fun, d):\n",
    "    np.random.seed(1000)\n",
    "    mean = fun(uniform.rvs())\n",
    "    var = 0\n",
    "    i = 1\n",
    "    while (i < MIN_SAMPLES or (var/i)**(1/2) >= d):\n",
    "        s = fun(uniform.rvs())\n",
    "        mean_old = mean\n",
    "        mean = mean_old + (s - mean_old)/(i + 1)\n",
    "        var = (1 - 1/i)*var + (i+1)*(mean_old - mean)**2\n",
    "        i += 1\n",
    "\n",
    "    return i, mean, var"
   ]
  },
  {
   "cell_type": "markdown",
   "metadata": {},
   "source": [
    "# Resultados"
   ]
  },
  {
   "cell_type": "code",
   "execution_count": 4,
   "metadata": {},
   "outputs": [
    {
     "name": "stdout",
     "output_type": "stream",
     "text": [
      "Funcion g1\n",
      "\t| Real\t   2.068501936090624\n",
      "\t| Obtenido 2.0612521628201015\n",
      "\t| Simulaciones 30827\n"
     ]
    }
   ],
   "source": [
    "resultado1 = estadistico(g1, 0.01)\n",
    "# Resultado real obtenido mediante integracion numerica\n",
    "print_res('g1', resultado1, 2.068501936090624)"
   ]
  },
  {
   "cell_type": "code",
   "execution_count": 5,
   "metadata": {},
   "outputs": [
    {
     "name": "stdout",
     "output_type": "stream",
     "text": [
      "Funcion g2\n",
      "\t| Real\t   0.8862269254527579\n",
      "\t| Obtenido 0.896611651168576\n",
      "\t| Simulaciones 12871\n"
     ]
    }
   ],
   "source": [
    "resultado2 = estadistico(g2_01, 0.01)\n",
    "# Idem para resultado real\n",
    "print_res('g2', resultado2, (np.pi / 4) ** (1/2))"
   ]
  }
 ],
 "metadata": {
  "kernelspec": {
   "display_name": "Python 3",
   "language": "python",
   "name": "python3"
  },
  "language_info": {
   "codemirror_mode": {
    "name": "ipython",
    "version": 3
   },
   "file_extension": ".py",
   "mimetype": "text/x-python",
   "name": "python",
   "nbconvert_exporter": "python",
   "pygments_lexer": "ipython3",
   "version": "3.12.3"
  }
 },
 "nbformat": 4,
 "nbformat_minor": 2
}

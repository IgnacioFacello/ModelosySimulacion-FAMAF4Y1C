{
 "cells": [
  {
   "cell_type": "code",
   "execution_count": 15,
   "metadata": {},
   "outputs": [],
   "source": [
    "from scipy.stats import expon, uniform\n",
    "\n",
    "MUESTRA = sorted([ 86,133,75,22,11,144,78,122,8,146,33,41,99 ])\n",
    "\n",
    "P_H0 = lambda x : expon.cdf(x, scale=50)\n",
    "\n",
    "def calcular_estadistico(muestra, f_h0):\n",
    "    ''' Estadistico de Kolmogorov-Smirnov\n",
    "    '''\n",
    "    n = len(muestra)\n",
    "    f_mi = f_h0(muestra[0])\n",
    "    d_est = max([1/n - f_mi,f_mi])\n",
    "    for i in range(1, n):\n",
    "        f_mi = f_h0(muestra[i])\n",
    "        d_est = max([d_est, (i+1)/n - f_mi,f_mi - i/n ])\n",
    "    return d_est\n",
    "\n",
    "def simular_p_Valor(nsim, k, d_est):\n",
    "    ''' Calculo de p usando simulaciones \n",
    "    '''\n",
    "    ds = []\n",
    "    for _ in range(nsim):\n",
    "        muestra = sorted(uniform.rvs(size=k))\n",
    "        d_sim = calcular_estadistico(muestra, lambda x : uniform.cdf(x))\n",
    "        ds.append(d_sim)\n",
    "    return sum([ 1 for d in ds if d >= d_est])/nsim"
   ]
  },
  {
   "cell_type": "code",
   "execution_count": 16,
   "metadata": {},
   "outputs": [
    {
     "data": {
      "text/plain": [
       "0.3922544552361856"
      ]
     },
     "execution_count": 16,
     "metadata": {},
     "output_type": "execute_result"
    }
   ],
   "source": [
    "T_EST = calcular_estadistico(MUESTRA, P_H0)\n",
    "T_EST"
   ]
  },
  {
   "cell_type": "code",
   "execution_count": 17,
   "metadata": {},
   "outputs": [
    {
     "name": "stdout",
     "output_type": "stream",
     "text": [
      "Usando el metodo de Kolmogorov-Smirnov\n",
      "El p-valor de la muestra es 0.0263\n"
     ]
    }
   ],
   "source": [
    "p_valor = simular_p_Valor(10_000, len(MUESTRA), T_EST)\n",
    "print('Usando el metodo de Kolmogorov-Smirnov')\n",
    "print(f'El p-valor de la muestra es {p_valor:.4}')"
   ]
  }
 ],
 "metadata": {
  "kernelspec": {
   "display_name": "Python 3",
   "language": "python",
   "name": "python3"
  },
  "language_info": {
   "codemirror_mode": {
    "name": "ipython",
    "version": 3
   },
   "file_extension": ".py",
   "mimetype": "text/x-python",
   "name": "python",
   "nbconvert_exporter": "python",
   "pygments_lexer": "ipython3",
   "version": "3.10.12"
  }
 },
 "nbformat": 4,
 "nbformat_minor": 2
}

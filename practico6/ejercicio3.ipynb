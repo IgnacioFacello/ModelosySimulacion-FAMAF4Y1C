{
 "cells": [
  {
   "cell_type": "markdown",
   "metadata": {},
   "source": [
    "# Auxiliares"
   ]
  },
  {
   "cell_type": "code",
   "execution_count": 9,
   "metadata": {},
   "outputs": [],
   "source": [
    "from scipy.stats import uniform, norm\n",
    "import numpy as np"
   ]
  },
  {
   "cell_type": "code",
   "execution_count": 10,
   "metadata": {},
   "outputs": [],
   "source": [
    "MIN_SAMPLES = 100\n",
    "\n",
    "def print_res(name, nsim, res, var, real):\n",
    "    print(f'Funcion {name}' )\n",
    "    print(f'\\t| Real\\t       {real}') \n",
    "    print(f'\\t| Calculado    {res}') \n",
    "    print(f'\\t| Diferencia   {abs(real - res)}')\n",
    "    print(f'\\t| Simulaciones {nsim}')\n",
    "    print(f'\\t| S            {var}')\n",
    "\n",
    "def estadistico(fun, d):\n",
    "    np.random.seed(1000)\n",
    "    mean = fun(uniform.rvs())\n",
    "    var = 0\n",
    "    i = 1\n",
    "    while (i < MIN_SAMPLES or (var/i)**(1/2) >= d):\n",
    "        s = fun(uniform.rvs())\n",
    "        mean_old = mean\n",
    "        mean = mean_old + (s - mean_old)/(i + 1)\n",
    "        var = (1 - 1/i)*var + (i+1)*(mean_old - mean)**2\n",
    "        i += 1\n",
    "    return i, mean, var"
   ]
  },
  {
   "cell_type": "code",
   "execution_count": 11,
   "metadata": {},
   "outputs": [],
   "source": [
    "def g_i(x):\n",
    "    # En [pi,2pi]\n",
    "    return np.sin(x)/x\n",
    "\n",
    "def g_i_01(x):\n",
    "    # En [0,1]\n",
    "    y = ( x + 1 )*np.pi\n",
    "    dy = np.pi\n",
    "    return g_i(y) * dy\n",
    "\n",
    "def g_ii(x):\n",
    "    # En [0,inf]\n",
    "    return 3 / (3+x**4)\n",
    "\n",
    "def g_ii_01(x):\n",
    "    # En [0,1]\n",
    "    y = (1/x - 1)\n",
    "    dy = 1/(x**2) \n",
    "    return g_ii(y) * dy"
   ]
  },
  {
   "cell_type": "code",
   "execution_count": 12,
   "metadata": {},
   "outputs": [],
   "source": [
    "def montecarlo_01(g, nsim):\n",
    "    ''' Funcion para el metodo de montecarlo en el intervalo [0, 1]\n",
    "    '''\n",
    "    np.random.seed(1000)\n",
    "    integral = 0\n",
    "    for u in uniform.rvs(size=nsim):\n",
    "        integral += g(u)\n",
    "    return integral/nsim\n"
   ]
  },
  {
   "cell_type": "code",
   "execution_count": 13,
   "metadata": {},
   "outputs": [],
   "source": [
    "def estadistico_intervalo(fun, z, l):\n",
    "    d = l / (2*z)\n",
    "    return estadistico(fun, d)"
   ]
  },
  {
   "cell_type": "markdown",
   "metadata": {},
   "source": [
    "# Resultados"
   ]
  },
  {
   "cell_type": "code",
   "execution_count": 14,
   "metadata": {},
   "outputs": [
    {
     "name": "stdout",
     "output_type": "stream",
     "text": [
      "Funcion mtc-gi\n",
      "\t| Real\t       -0.4337854758498377\n",
      "\t| Calculado    -0.43355489833898175\n",
      "\t| Diferencia   0.0002305775108559227\n",
      "\t| Simulaciones 10000\n",
      "\t| S            N/A\n",
      "Funcion mtc-gii\n",
      "\t| Real\t       1.46179069437506\n",
      "\t| Calculado    1.4714659759204278\n",
      "\t| Diferencia   0.009675281545367787\n",
      "\t| Simulaciones 10000\n",
      "\t| S            N/A\n"
     ]
    }
   ],
   "source": [
    "r1_m = montecarlo_01(g_i_01, 10_000)\n",
    "print_res('mtc-gi', 10000, r1_m, 'N/A', -1*0.4337854758498377)\n",
    "r2_m = montecarlo_01(g_ii_01, 10_000)\n",
    "print_res('mtc-gii', 10000, r2_m, 'N/A', 1.46179069437506)"
   ]
  },
  {
   "cell_type": "code",
   "execution_count": 15,
   "metadata": {},
   "outputs": [
    {
     "name": "stdout",
     "output_type": "stream",
     "text": [
      "Funcion est-gi\n",
      "\t| Real\t       -0.4337854758498377\n",
      "\t| Calculado    -0.4333467148167105\n",
      "\t| Diferencia   0.0004387610331271774\n",
      "\t| Simulaciones 44481\n",
      "\t| S            0.0444801967077122\n",
      "Funcion est-gii\n",
      "\t| Real\t       1.46179069437506\n",
      "\t| Calculado    1.4645197358572675\n",
      "\t| Diferencia   0.0027290414822074283\n",
      "\t| Simulaciones 951259\n",
      "\t| S            0.95125856260818\n"
     ]
    }
   ],
   "source": [
    "r1_e = estadistico(g_i_01, 0.001)\n",
    "print_res('est-gi', r1_e[0], r1_e[1], r1_e[2], -1*0.4337854758498377)\n",
    "r2_e = estadistico(g_ii_01, 0.001)\n",
    "print_res('est-gii', r2_e[0], r2_e[1], r2_e[2], 1.46179069437506)"
   ]
  }
 ],
 "metadata": {
  "kernelspec": {
   "display_name": "Python 3",
   "language": "python",
   "name": "python3"
  },
  "language_info": {
   "codemirror_mode": {
    "name": "ipython",
    "version": 3
   },
   "file_extension": ".py",
   "mimetype": "text/x-python",
   "name": "python",
   "nbconvert_exporter": "python",
   "pygments_lexer": "ipython3",
   "version": "3.10.12"
  }
 },
 "nbformat": 4,
 "nbformat_minor": 2
}

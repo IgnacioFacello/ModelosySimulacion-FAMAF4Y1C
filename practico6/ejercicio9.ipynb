{
 "cells": [
  {
   "cell_type": "code",
   "execution_count": 23,
   "metadata": {},
   "outputs": [],
   "source": [
    "from scipy.stats import uniform\n",
    "\n",
    "MUESTRA = sorted([ 0.12,0.18,0.06,0.33,0.72,0.83,0.36,0.27,0.77,0.74 ])\n",
    "\n",
    "P_H0 = lambda x : uniform.cdf(x)\n",
    "\n",
    "def calcular_estadistico(muestra, f_h0):\n",
    "    n = len(muestra)\n",
    "    f_mi = f_h0(muestra[0])\n",
    "    d_est = max([1/n - f_mi,f_mi])\n",
    "    for i in range(1, n):\n",
    "        f_mi = f_h0(muestra[i])\n",
    "        d_est = max([d_est, (i+1)/n - f_mi,f_mi - i/n ])\n",
    "    return d_est\n",
    "\n",
    "def calcular_p_valor(d_est, muestra):\n",
    "    return  len([ m for m in muestra if m > d_est]) / len(MUESTRA)\n",
    "\n",
    "def KS(Nsim, n, d_valor):\n",
    "    ''' Nsim simulaciones, n tamaño de la muestra, d_valor obtenido de la muestra\n",
    "    '''\n",
    "    pvalor = 0\n",
    "    for _ in range(Nsim):\n",
    "        uniformes = uniform.rvs(size=n)    # Genero una muestra de n uniformes U(0,1)\n",
    "        uniformes.sort()\n",
    "        d_j = 0\n",
    "        for j in range(n):\n",
    "            u_j = uniformes[j]\n",
    "            d_j = max(d_j, ((j + 1) / n) - u_j, u_j - (j / n))\n",
    "        if d_j >= d_valor:\n",
    "            pvalor += 1\n",
    "    return pvalor/Nsim"
   ]
  },
  {
   "cell_type": "code",
   "execution_count": 24,
   "metadata": {},
   "outputs": [
    {
     "data": {
      "text/plain": [
       "0.24"
      ]
     },
     "execution_count": 24,
     "metadata": {},
     "output_type": "execute_result"
    }
   ],
   "source": [
    "T_EST = calcular_estadistico(MUESTRA, P_H0)\n",
    "T_EST"
   ]
  },
  {
   "cell_type": "code",
   "execution_count": 25,
   "metadata": {},
   "outputs": [
    {
     "name": "stdout",
     "output_type": "stream",
     "text": [
      "Usando el metodo de Pearson\n",
      "El p-valor de la muestra es 0.7\n"
     ]
    }
   ],
   "source": [
    "p_valor = calcular_p_valor(T_EST, MUESTRA)\n",
    "print('Usando el metodo de Pearson')\n",
    "print(f'El p-valor de la muestra es {p_valor:.2}')"
   ]
  }
 ],
 "metadata": {
  "kernelspec": {
   "display_name": "Python 3",
   "language": "python",
   "name": "python3"
  },
  "language_info": {
   "codemirror_mode": {
    "name": "ipython",
    "version": 3
   },
   "file_extension": ".py",
   "mimetype": "text/x-python",
   "name": "python",
   "nbconvert_exporter": "python",
   "pygments_lexer": "ipython3",
   "version": "3.10.12"
  }
 },
 "nbformat": 4,
 "nbformat_minor": 2
}

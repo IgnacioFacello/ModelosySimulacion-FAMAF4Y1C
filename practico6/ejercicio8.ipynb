{
 "cells": [
  {
   "cell_type": "code",
   "execution_count": 73,
   "metadata": {},
   "outputs": [],
   "source": [
    "from scipy.stats import chi2, uniform, binom\n",
    "\n",
    "MUESTRA = [\n",
    "    158,\n",
    "    172,\n",
    "    164,\n",
    "    181,\n",
    "    160,\n",
    "    165,\n",
    "]\n",
    "\n",
    "P_H0 = [1/6]*6\n",
    "\n",
    "def calcular_estadistico(muestra, p_h0):\n",
    "    total = sum(muestra)\n",
    "    t_est = 0\n",
    "    for i in range(len(muestra)):\n",
    "        n_i = muestra[i]\n",
    "        np_i = total * p_h0[i]\n",
    "        t_est += (n_i - np_i)**2 / np_i\n",
    "    return t_est\n",
    "    \n",
    "\n",
    "def calcular_p_valor(t_est, k):\n",
    "    return  1 - chi2.cdf(t_est, k-1)\n",
    "\n",
    "def simular_p_valor(muestra, p_h0, t_est):\n",
    "    total = sum(muestra)\n",
    "    k = len(muestra)\n",
    "    p_sim, nsim = 0, 10_000\n",
    "    for _ in range(nsim):\n",
    "        acc = [0] * k\n",
    "        for i in range(k):\n",
    "            p = p_h0[i] / (1 - sum(p_h0[:i]))\n",
    "            n = total - sum(acc)\n",
    "            acc[i] = binom.rvs(n, p)\n",
    "        t_sim = calcular_estadistico(acc, p_h0)\n",
    "        if t_sim > t_est:\n",
    "            p_sim += 1/nsim  \n",
    "    return p_sim"
   ]
  },
  {
   "cell_type": "code",
   "execution_count": 74,
   "metadata": {},
   "outputs": [
    {
     "data": {
      "text/plain": [
       "2.18"
      ]
     },
     "execution_count": 74,
     "metadata": {},
     "output_type": "execute_result"
    }
   ],
   "source": [
    "T_EST = calcular_estadistico(MUESTRA, P_H0)\n",
    "T_EST"
   ]
  },
  {
   "cell_type": "code",
   "execution_count": 75,
   "metadata": {},
   "outputs": [
    {
     "name": "stdout",
     "output_type": "stream",
     "text": [
      "Usando el metodo de Pearson\n",
      "El p-valor de la muestra es 0.82\n"
     ]
    }
   ],
   "source": [
    "p_valor = calcular_p_valor(T_EST, len(MUESTRA))\n",
    "print('Usando el metodo de Pearson')\n",
    "print(f'El p-valor de la muestra es {p_valor:.2}')"
   ]
  },
  {
   "cell_type": "code",
   "execution_count": 76,
   "metadata": {},
   "outputs": [
    {
     "name": "stdout",
     "output_type": "stream",
     "text": [
      "Usando el metodo de Simulacion con 10.000 simulaciones\n",
      "El p-valor de la muestra es 0.83\n"
     ]
    }
   ],
   "source": [
    "p_sim = simular_p_valor(MUESTRA, P_H0, T_EST)\n",
    "print('Usando el metodo de Simulacion con 10.000 simulaciones')\n",
    "print(f'El p-valor de la muestra es {p_sim:.2}')"
   ]
  }
 ],
 "metadata": {
  "kernelspec": {
   "display_name": "Python 3",
   "language": "python",
   "name": "python3"
  },
  "language_info": {
   "codemirror_mode": {
    "name": "ipython",
    "version": 3
   },
   "file_extension": ".py",
   "mimetype": "text/x-python",
   "name": "python",
   "nbconvert_exporter": "python",
   "pygments_lexer": "ipython3",
   "version": "3.10.12"
  }
 },
 "nbformat": 4,
 "nbformat_minor": 2
}

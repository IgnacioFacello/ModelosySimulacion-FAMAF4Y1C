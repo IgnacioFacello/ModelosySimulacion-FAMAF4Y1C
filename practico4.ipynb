{
 "cells": [
  {
   "cell_type": "code",
   "execution_count": null,
   "metadata": {},
   "outputs": [],
   "source": [
    "# imports\n",
    "import numpy as np\n",
    "from math import factorial\n",
    "import random as rnd\n",
    "import p4_aux as p4"
   ]
  },
  {
   "cell_type": "code",
   "execution_count": null,
   "metadata": {},
   "outputs": [],
   "source": [
    "# Ejercicio 1c\n",
    "np.random.seed(1234)\n",
    "\n",
    "def shuffle_match(n):\n",
    "    mazo = np.arange(n)\n",
    "    perm = list(np.random.permutation(mazo))\n",
    "    return [ i == e for i, e in enumerate(perm)]\n",
    "\n",
    "print(\"Match 1 to 10\")\n",
    "for e in [2,3,4,5,6]:\n",
    "    nsim = 10**e\n",
    "    acc = 0\n",
    "    for _ in range(nsim):\n",
    "        deck = shuffle_match(100)\n",
    "        acc += sum(deck[:10]) == 10  # ignores 11:100\n",
    "    print(f'{nsim:7} | {acc/nsim}')\n",
    "\n",
    "print(\"\\nMatch only 1 to 10\")\n",
    "for e in [2,3,4,5,6]:\n",
    "    nsim = 10**e\n",
    "    acc = 0\n",
    "    for _ in range(nsim):\n",
    "        deck = shuffle_match(100)\n",
    "        acc += sum(deck[:10]) == 10 and sum(deck) == 10 # only matches at :10\n",
    "    print(f'{nsim:7} | {acc/nsim}')"
   ]
  },
  {
   "cell_type": "code",
   "execution_count": 36,
   "metadata": {},
   "outputs": [
    {
     "name": "stdout",
     "output_type": "stream",
     "text": [
      " nsim  |  V Medio | Desviacion \n",
      "   100 |    56.16 | 31.5486 \n",
      "  1000 |   60.664 | 33.92314 \n",
      " 10000 |  60.7926 | 35.23579 \n",
      "100000 | 60.97358 | 35.91578 \n"
     ]
    }
   ],
   "source": [
    "# Ejercicio 3\n",
    "from p3_aux import dice_dn\n",
    "rnd.seed(1234)\n",
    "\n",
    "MAX_SIM = 10**6\n",
    "\n",
    "def inner():\n",
    "    res = {}\n",
    "    acc = 0\n",
    "    while len(res) < 11 and acc < MAX_SIM:\n",
    "        acc += 1 \n",
    "        r = dice_dn(6) +  dice_dn(6)\n",
    "        res[r] = 1 + res.get(r, 0)\n",
    "    return acc\n",
    "\n",
    "def outer():\n",
    "    print(' nsim  |  V Medio | Desviacion ')\n",
    "    for e in [2,3,4,5]:\n",
    "        nsim = 10**e\n",
    "        acc = []\n",
    "        for _  in range(nsim):\n",
    "            acc.append(inner())\n",
    "        print(f'{nsim:6} | {np.mean(acc):8.7} | {np.std(acc):7.7} ')\n",
    "\n",
    "outer()\n"
   ]
  },
  {
   "cell_type": "code",
   "execution_count": 42,
   "metadata": {},
   "outputs": [
    {
     "name": "stdout",
     "output_type": "stream",
     "text": [
      " nsim  |  P(N >= 15) | P(N <= 9) \n",
      "   100 |        0.99 | 0.0\n",
      "  1000 |         1.0 | 0.0\n",
      " 10000 |       0.999 | 0.0\n",
      "100000 |       0.999 | 0.0\n"
     ]
    }
   ],
   "source": [
    "# Ejercicio 3bii\n",
    "rnd.seed(16661)\n",
    "def outer():\n",
    "    print(' nsim  |  P(N >= 15) | P(N <= 9) ')\n",
    "    for e in [2,3,4,5]:\n",
    "        nsim = 10**e\n",
    "        acc15 = 0\n",
    "        acc9 = 0\n",
    "        for _  in range(nsim):\n",
    "            r = inner()\n",
    "            acc15 += 1 if r >= 15 else 0\n",
    "            acc9  += 1 if r <= 9  else 0\n",
    "        print(f'{nsim:6} | {acc15/nsim:11.3} | {acc9/nsim:.3}')\n",
    "\n",
    "outer()"
   ]
  }
 ],
 "metadata": {
  "kernelspec": {
   "display_name": "ModelosySimulacion-FAMAF4Y1C",
   "language": "python",
   "name": "python3"
  },
  "language_info": {
   "codemirror_mode": {
    "name": "ipython",
    "version": 3
   },
   "file_extension": ".py",
   "mimetype": "text/x-python",
   "name": "python",
   "nbconvert_exporter": "python",
   "pygments_lexer": "ipython3",
   "version": "3.12.3"
  }
 },
 "nbformat": 4,
 "nbformat_minor": 2
}

{
 "cells": [
  {
   "cell_type": "code",
   "execution_count": null,
   "metadata": {},
   "outputs": [],
   "source": [
    "# imports\n",
    "import numpy as np\n",
    "import random as rnd\n",
    "import p4_aux as p4"
   ]
  },
  {
   "cell_type": "markdown",
   "metadata": {},
   "source": [
    "# Ejercicio 1"
   ]
  },
  {
   "cell_type": "code",
   "execution_count": null,
   "metadata": {},
   "outputs": [],
   "source": []
  },
  {
   "cell_type": "markdown",
   "metadata": {},
   "source": [
    "# Ejercicio 2"
   ]
  },
  {
   "cell_type": "markdown",
   "metadata": {},
   "source": [
    "Con $N=10.000$, queremos aproximar\n",
    "$$S = \\sum^N_{k=1}e^{k/ N}$$\n",
    "\n",
    "Tomamos $g(i) = exp(i/N)$ y queremos estimar $E[g(X)]$ con $X\\sim U(1,10000)$\n",
    "\n",
    "$$\\begin{align}\n",
    "S &= N * {1\\over N} * \\sum^N_{k=1}e^{k/ N} \\\\\n",
    "S &= N * {1\\over N} \\sum^N_{k=1}g(x) \\\\\n",
    "S &\\simeq N * E[g(X)]\n",
    "\\end{align}\n",
    "$$"
   ]
  },
  {
   "cell_type": "code",
   "execution_count": null,
   "metadata": {},
   "outputs": [],
   "source": [
    "from random import seed\n",
    "from time import perf_counter\n",
    "import matplotlib.pyplot as plt\n",
    "\n",
    "def get_probs(g, nsim, *args):\n",
    "    seed(1811)\n",
    "    start = perf_counter()\n",
    "    \n",
    "    r = g(*args) if args else g()\n",
    "\n",
    "    end = perf_counter()\n",
    "    perf = end - start\n",
    "    return r, perf\n",
    "\n",
    "def plot_probs(funs, nsim):\n",
    "    for n, g, v in funs:\n",
    "        print(n)\n",
    "        print(75*'-')\n",
    "        acc, perf = get_probs(g, nsim, v)\n",
    "        print(f'Got:\\t {acc}')\n",
    "        print(f'Perf:\\t {perf:.3}ms')\n",
    "        print()"
   ]
  },
  {
   "cell_type": "code",
   "execution_count": null,
   "metadata": {},
   "outputs": [],
   "source": [
    "# Ejercicio 2\n",
    "import numpy as np\n",
    "from random import random, seed\n",
    "N = 10**4\n",
    "\n",
    "g = lambda x: np.exp(x/N)\n",
    "\n",
    "def dos_a(*args):\n",
    "    acc = 0\n",
    "    for i in range(10000):\n",
    "        acc += g(i+1)\n",
    "    return acc\n",
    "\n",
    "def dos_b(nsim):\n",
    "    acc = 0\n",
    "    for _ in range(nsim):\n",
    "        u = int(random()*N) + 1 # Uniforme [1,10000]\n",
    "        acc += g(u)\n",
    "    return acc/nsim * N\n",
    "\n",
    "def dos_c(nsim):\n",
    "    acc = 0\n",
    "    for i in range(nsim):\n",
    "        acc += g(i+1)\n",
    "    return acc"
   ]
  },
  {
   "cell_type": "code",
   "execution_count": null,
   "metadata": {},
   "outputs": [],
   "source": [
    "funs = [\n",
    "    ('2a', dos_a, []),\n",
    "    ('2b', dos_b, 100),\n",
    "    ('2c', dos_c, 100),\n",
    "]\n",
    "\n",
    "plot_probs(funs, 1)"
   ]
  },
  {
   "cell_type": "markdown",
   "metadata": {},
   "source": [
    "# Ejercicio 3"
   ]
  },
  {
   "cell_type": "code",
   "execution_count": null,
   "metadata": {},
   "outputs": [],
   "source": [
    "# Ejercicio 3\n",
    "from p3_aux import dice_dn\n",
    "rnd.seed(1234)\n",
    "\n",
    "MAX_SIM = 10**6\n",
    "\n",
    "def inner():\n",
    "    res = {}\n",
    "    acc = 0\n",
    "    while len(res) < 11 and acc < MAX_SIM:\n",
    "        acc += 1 \n",
    "        r = dice_dn(6) +  dice_dn(6)\n",
    "        res[r] = 1 + res.get(r, 0)\n",
    "    return acc\n",
    "\n",
    "def outer():\n",
    "    print(' nsim  |  V Medio | Desviacion ')\n",
    "    for e in [2,3,4,5]:\n",
    "        nsim = 10**e\n",
    "        acc = []\n",
    "        for _  in range(nsim):\n",
    "            acc.append(inner())\n",
    "        print(f'{nsim:6} | {np.mean(acc):8.7} | {np.std(acc):7.7} ')\n",
    "\n",
    "outer()\n"
   ]
  },
  {
   "cell_type": "code",
   "execution_count": null,
   "metadata": {},
   "outputs": [],
   "source": [
    "# Ejercicio 3bii\n",
    "rnd.seed(16661)\n",
    "def outer():\n",
    "    print(' nsim  |  P(N >= 15) | P(N <= 9) ')\n",
    "    for e in [2,3,4,5]:\n",
    "        nsim = 10**e\n",
    "        acc15 = 0\n",
    "        acc9 = 0\n",
    "        for _  in range(nsim):\n",
    "            r = inner()\n",
    "            acc15 += 1 if r >= 15 else 0\n",
    "            acc9  += 1 if r <= 9  else 0\n",
    "        print(f'{nsim:6} | {acc15/nsim:11.3} | {acc9/nsim:8.3}')\n",
    "\n",
    "outer()"
   ]
  },
  {
   "cell_type": "markdown",
   "metadata": {},
   "source": [
    "# Ejercicio 4"
   ]
  },
  {
   "cell_type": "code",
   "execution_count": null,
   "metadata": {},
   "outputs": [],
   "source": [
    "# Ejercicio 4\n",
    "from random import random\n",
    "\n",
    "def var_rech(probs : list):\n",
    "    ''' implementacion usando el metodo de rechazo\n",
    "    '''\n",
    "    ret = None\n",
    "    while ret is None:\n",
    "        y = int(random() * 10) \n",
    "        valid = random() < probs[y] / max(probs)\n",
    "        ret = y + 1 if valid else None\n",
    "    return ret\n",
    "\n",
    "def var_tinv(probs : dict):\n",
    "    ''' Implementacion usando transformacion invertida \n",
    "    '''\n",
    "    u = random()\n",
    "    f = 0\n",
    "    for k, v in probs.items():\n",
    "        f += v\n",
    "        if u <= f:\n",
    "            return k\n",
    "\n",
    "def _gen_urna(probs):\n",
    "    res = []\n",
    "    for i in range(len(probs)):\n",
    "        res += [i+1]*int(probs[i]*100)\n",
    "    return res\n",
    "\n",
    "def var_urna(urna : list):\n",
    "    ''' Implementacion usando el metodo de la variable invertida\n",
    "    '''\n",
    "    u = int(random() * 100)\n",
    "    return urna[u]\n"
   ]
  },
  {
   "cell_type": "code",
   "execution_count": null,
   "metadata": {},
   "outputs": [],
   "source": [
    "from random import seed\n",
    "import time \n",
    "\n",
    "def get_probs(g, nsim, *args):\n",
    "    seed(1811)\n",
    "    acc = {}\n",
    "\n",
    "    start = time.perf_counter()\n",
    "    for _ in range(nsim):\n",
    "        r = g(*args)\n",
    "        acc[r] = 1 + acc.get(r, 0)\n",
    "\n",
    "    end = time.perf_counter()\n",
    "\n",
    "    perf = end - start\n",
    "    acc = { k:v/nsim for k, v in acc.items() }\n",
    "    acc = dict(sorted(acc.items()))\n",
    "    return acc, perf\n"
   ]
  },
  {
   "cell_type": "code",
   "execution_count": null,
   "metadata": {},
   "outputs": [],
   "source": [
    "import matplotlib.pyplot as plt\n",
    "\n",
    "P = [0.11, 0.14, 0.09, 0.08, 0.12, 0.10, 0.09, 0.07, 0.11, 0.09]\n",
    "p_idx = { k: v for k, v in zip(range(1,len(P)+1),P)}\n",
    "sort = sorted((p_idx.items()), key = lambda x: x[1], reverse=True)\n",
    "P_ORD = dict(sort)\n",
    "\n",
    "funs = [\n",
    "    ('Rechazo   ',var_rech, P), \n",
    "    ('Invertida ',var_tinv, P_ORD),\n",
    "    ('Urna      ',var_urna, _gen_urna(P)),\n",
    "    ]\n",
    "\n",
    "\n",
    "plt.bar([1,2,3,4,5,6,7,8,9,10], [0.11, 0.14, 0.09, 0.08, 0.12, 0.10, 0.09, 0.07, 0.11, 0.09], 0.2,color='red', label=\"Original\")\n",
    "i = 1\n",
    "for n, g, v in funs:\n",
    "    print(n)\n",
    "    # print('Expected:',PROBS_IDX)\n",
    "    print(75*'-')\n",
    "    acc, perf = get_probs(g, 10_000, v)\n",
    "    print('Got:\\t ', acc)\n",
    "    # print('Perf:\\t  ', perf)\n",
    "    x_axis = list(map(lambda x: x + 0.2*i, acc.keys()))\n",
    "    y_axis = acc.values()\n",
    "    plt.bar(x_axis,y_axis, 0.2, label=n)\n",
    "    i += 1\n",
    "\n",
    "plt.legend()\n",
    "plt.show()\n"
   ]
  },
  {
   "cell_type": "markdown",
   "metadata": {},
   "source": [
    "# Ejercicio 5"
   ]
  },
  {
   "cell_type": "code",
   "execution_count": null,
   "metadata": {
    "metadata": {}
   },
   "outputs": [],
   "source": [
    "from random import random, seed\n",
    "import matplotlib.pyplot as plt\n",
    "\n",
    "def bin_inv(n,p):\n",
    "    ''' F(i)    = p(i) + F(i-1)\n",
    "        \n",
    "        p(0)    = (1-p)**n\n",
    "        p(i+1)  = p(i) * (n-i) * (i+1)\n",
    "    '''\n",
    "    c = p / (1-p)\n",
    "    prob = (1-p)**n\n",
    "    f, i = prob, 0\n",
    "    u = random()\n",
    "    while f <= u:\n",
    "        prob *= c * (n-i) / (i+1)\n",
    "        f += prob\n",
    "        i += 1 \n",
    "    return i\n",
    "\n",
    "def bin_sim(n,p):\n",
    "    '''  \n",
    "    '''\n",
    "    i = 0\n",
    "    for _ in range(n):\n",
    "        u = random()\n",
    "        if p >= u:\n",
    "            i += 1\n",
    "    return i"
   ]
  },
  {
   "cell_type": "code",
   "execution_count": null,
   "metadata": {
    "metadata": {}
   },
   "outputs": [],
   "source": [
    "import time \n",
    "\n",
    "def get_probs(g, nsim, *args):\n",
    "    seed(1000)\n",
    "    acc = {}\n",
    "\n",
    "    start = time.perf_counter()\n",
    "    for _ in range(nsim):\n",
    "        r = g(*args)\n",
    "        acc[r] = 1 + acc.get(r, 0)\n",
    "\n",
    "    end = time.perf_counter()\n",
    "\n",
    "    perf = end - start\n",
    "    acc = { k:v/nsim for k, v in acc.items() }\n",
    "    acc = dict(sorted(acc.items()))\n",
    "    return acc, perf\n",
    "\n",
    "N = 10\n",
    "P = 0.3\n",
    "funs = [\n",
    "    ('Invertida',bin_inv ,[N,P]),\n",
    "    ('Simulada ',bin_sim ,[N,P])\n",
    "]\n",
    "\n",
    "i = 0\n",
    "for n, g, v in funs:\n",
    "    print(n)\n",
    "    print(75*'-')\n",
    "    acc, perf = get_probs(g, 10_000, *v)\n",
    "    print(f'Got:\\t {acc}')\n",
    "    print(f'Perf:\\t {perf:.3}ms')\n",
    "    x_axis = list(map(lambda x: x + i*0.5, acc.keys()))\n",
    "    y_axis = acc.values()\n",
    "    plt.bar(x_axis,y_axis, 0.5)\n",
    "    i += 1\n",
    "    print()\n",
    "    \n",
    "plt.show()"
   ]
  },
  {
   "cell_type": "code",
   "execution_count": null,
   "metadata": {},
   "outputs": [],
   "source": []
  },
  {
   "cell_type": "markdown",
   "metadata": {},
   "source": [
    "# Ejercicio 6"
   ]
  },
  {
   "cell_type": "code",
   "execution_count": null,
   "metadata": {},
   "outputs": [],
   "source": [
    "P = [0.15, 0.20, 0.10, 0.35, 0.20]\n",
    "p_idx = { k: v for k, v in zip(range(1,len(P)+1),P)}\n",
    "sort = sorted((p_idx.items()), key = lambda x: x[1], reverse=True)\n",
    "P_ORD = dict(sort)\n",
    "\n",
    "def var_tinv(probs : dict):\n",
    "    ''' Implementacion usando transformacion invertida \n",
    "    '''\n",
    "    u = random()\n",
    "    f = 0\n",
    "    for k, v in probs.items():\n",
    "        f += v\n",
    "        if u <= f:\n",
    "            return k\n",
    "\n",
    "def var_rech(probs : list):\n",
    "    ''' implementacion usando el metodo de rechazo\n",
    "    '''\n",
    "    ret = None\n",
    "    while ret is None:\n",
    "        y = int(random() * 10) \n",
    "        valid = random() < probs[y] / max(probs)\n",
    "        ret = y + 1 if valid else None\n",
    "    return ret\n",
    "\n"
   ]
  }
 ],
 "metadata": {
  "kernelspec": {
   "display_name": "ModelosySimulacion-FAMAF4Y1C",
   "language": "python",
   "name": "python3"
  },
  "language_info": {
   "codemirror_mode": {
    "name": "ipython",
    "version": 3
   },
   "file_extension": ".py",
   "mimetype": "text/x-python",
   "name": "python",
   "nbconvert_exporter": "python",
   "pygments_lexer": "ipython3",
   "version": "3.12.3"
  }
 },
 "nbformat": 4,
 "nbformat_minor": 2
}

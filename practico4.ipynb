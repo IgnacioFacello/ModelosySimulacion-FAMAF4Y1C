{
 "cells": [
  {
   "cell_type": "code",
   "execution_count": 1,
   "metadata": {},
   "outputs": [],
   "source": [
    "# imports\n",
    "import numpy as np\n",
    "import random as rnd\n",
    "import p4_aux as p4"
   ]
  },
  {
   "cell_type": "markdown",
   "metadata": {},
   "source": [
    "# Ejercicio 1"
   ]
  },
  {
   "cell_type": "code",
   "execution_count": 2,
   "metadata": {},
   "outputs": [
    {
     "name": "stdout",
     "output_type": "stream",
     "text": [
      "Match 1 to 10\n",
      "    100 | 0.0\n",
      "   1000 | 0.0\n",
      "  10000 | 0.0\n",
      " 100000 | 0.0\n",
      "1000000 | 0.0\n",
      "\n",
      "Match only 1 to 10\n",
      "    100 | 0.0\n",
      "   1000 | 0.0\n",
      "  10000 | 0.0\n",
      " 100000 | 0.0\n",
      "1000000 | 0.0\n"
     ]
    }
   ],
   "source": [
    "# Ejercicio 1c\n",
    "np.random.seed(1234)\n",
    "\n",
    "def shuffle_match(n):\n",
    "    mazo = np.arange(n)\n",
    "    perm = list(np.random.permutation(mazo))\n",
    "    return [ i == e for i, e in enumerate(perm)]\n",
    "\n",
    "print(\"Match 1 to 10\")\n",
    "for e in [2,3,4,5,6]:\n",
    "    nsim = 10**e\n",
    "    acc = 0\n",
    "    for _ in range(nsim):\n",
    "        deck = shuffle_match(100)\n",
    "        acc += sum(deck[:10]) == 10  # ignores 11:100\n",
    "    print(f'{nsim:7} | {acc/nsim}')\n",
    "\n",
    "print(\"\\nMatch only 1 to 10\")\n",
    "for e in [2,3,4,5,6]:\n",
    "    nsim = 10**e\n",
    "    acc = 0\n",
    "    for _ in range(nsim):\n",
    "        deck = shuffle_match(100)\n",
    "        acc += sum(deck[:10]) == 10 and sum(deck) == 10 # only matches at :10\n",
    "    print(f'{nsim:7} | {acc/nsim}')"
   ]
  },
  {
   "cell_type": "markdown",
   "metadata": {},
   "source": [
    "# Ejercicio 2"
   ]
  },
  {
   "cell_type": "markdown",
   "metadata": {},
   "source": [
    "Con $N=10.000$, queremos aproximar\n",
    "$$S = \\sum^N_{k=1}e^{k/ N}$$\n",
    "\n",
    "Tomamos $g(i) = exp(i/N)$ y queremos estimar $E[g(X)]$ con $X\\sim U(1,10000)$\n",
    "\n",
    "$$\\begin{align}\n",
    "S &= N * {1\\over N} * \\sum^N_{k=1}e^{k/ N} \\\\\n",
    "S &= N * {1\\over N} \\sum^N_{k=1}g(x) \\\\\n",
    "S &\\simeq N * E[g(X)]\n",
    "\\end{align}\n",
    "$$"
   ]
  },
  {
   "cell_type": "code",
   "execution_count": 3,
   "metadata": {},
   "outputs": [],
   "source": [
    "# Ejercicio 2\n",
    "import numpy as np\n",
    "from random import random, seed\n",
    "N = 10**4\n",
    "\n",
    "g = lambda x: np.exp(x/N)\n",
    "\n",
    "def dos_a():\n",
    "    seed(1234)\n",
    "    acc = 0\n",
    "    for i in range(10000):\n",
    "        acc += g(i+1)\n",
    "    return acc\n",
    "\n",
    "def dos_c(nsim):\n",
    "    seed(1234)\n",
    "    acc = 0\n",
    "    for i in range(nsim):\n",
    "        acc += g(i+1)\n",
    "    return acc\n",
    "\n",
    "def dos_b(nsim):\n",
    "    seed(1234)\n",
    "    acc = 0\n",
    "    for _ in range(nsim):\n",
    "        u = int(random()*N) + 1 # Uniforme [1,10000]\n",
    "        acc += g(u)\n",
    "    return acc/nsim * N\n"
   ]
  },
  {
   "cell_type": "code",
   "execution_count": 4,
   "metadata": {},
   "outputs": [
    {
     "data": {
      "text/plain": [
       "17183.677439823703"
      ]
     },
     "execution_count": 4,
     "metadata": {},
     "output_type": "execute_result"
    }
   ],
   "source": [
    "dos_a()"
   ]
  },
  {
   "cell_type": "code",
   "execution_count": 5,
   "metadata": {},
   "outputs": [
    {
     "data": {
      "text/plain": [
       "16514.784333287567"
      ]
     },
     "execution_count": 5,
     "metadata": {},
     "output_type": "execute_result"
    }
   ],
   "source": [
    "dos_b(100)"
   ]
  },
  {
   "cell_type": "code",
   "execution_count": 6,
   "metadata": {},
   "outputs": [
    {
     "data": {
      "text/plain": [
       "100.50669600897406"
      ]
     },
     "execution_count": 6,
     "metadata": {},
     "output_type": "execute_result"
    }
   ],
   "source": [
    "dos_c(100)"
   ]
  },
  {
   "cell_type": "markdown",
   "metadata": {},
   "source": [
    "# Ejercicio 3"
   ]
  },
  {
   "cell_type": "code",
   "execution_count": 7,
   "metadata": {},
   "outputs": [
    {
     "name": "stdout",
     "output_type": "stream",
     "text": [
      " nsim  |  V Medio | Desviacion \n",
      "   100 |    56.16 | 31.5486 \n",
      "  1000 |   60.664 | 33.92314 \n",
      " 10000 |  60.7926 | 35.23579 \n",
      "100000 | 60.97358 | 35.91578 \n"
     ]
    }
   ],
   "source": [
    "# Ejercicio 3\n",
    "from p3_aux import dice_dn\n",
    "rnd.seed(1234)\n",
    "\n",
    "MAX_SIM = 10**6\n",
    "\n",
    "def inner():\n",
    "    res = {}\n",
    "    acc = 0\n",
    "    while len(res) < 11 and acc < MAX_SIM:\n",
    "        acc += 1 \n",
    "        r = dice_dn(6) +  dice_dn(6)\n",
    "        res[r] = 1 + res.get(r, 0)\n",
    "    return acc\n",
    "\n",
    "def outer():\n",
    "    print(' nsim  |  V Medio | Desviacion ')\n",
    "    for e in [2,3,4,5]:\n",
    "        nsim = 10**e\n",
    "        acc = []\n",
    "        for _  in range(nsim):\n",
    "            acc.append(inner())\n",
    "        print(f'{nsim:6} | {np.mean(acc):8.7} | {np.std(acc):7.7} ')\n",
    "\n",
    "outer()\n"
   ]
  },
  {
   "cell_type": "code",
   "execution_count": 8,
   "metadata": {},
   "outputs": [
    {
     "name": "stdout",
     "output_type": "stream",
     "text": [
      " nsim  |  P(N >= 15) | P(N <= 9) \n",
      "   100 |        0.99 |      0.0\n",
      "  1000 |         1.0 |      0.0\n",
      " 10000 |       0.999 |      0.0\n",
      "100000 |       0.999 |      0.0\n"
     ]
    }
   ],
   "source": [
    "# Ejercicio 3bii\n",
    "rnd.seed(16661)\n",
    "def outer():\n",
    "    print(' nsim  |  P(N >= 15) | P(N <= 9) ')\n",
    "    for e in [2,3,4,5]:\n",
    "        nsim = 10**e\n",
    "        acc15 = 0\n",
    "        acc9 = 0\n",
    "        for _  in range(nsim):\n",
    "            r = inner()\n",
    "            acc15 += 1 if r >= 15 else 0\n",
    "            acc9  += 1 if r <= 9  else 0\n",
    "        print(f'{nsim:6} | {acc15/nsim:11.3} | {acc9/nsim:8.3}')\n",
    "\n",
    "outer()"
   ]
  },
  {
   "cell_type": "markdown",
   "metadata": {},
   "source": [
    "# Ejercicio 4"
   ]
  },
  {
   "cell_type": "code",
   "execution_count": 4,
   "metadata": {},
   "outputs": [],
   "source": [
    "# Ejercicio 4\n",
    "from random import random\n",
    "\n",
    "P = [0.11, 0.14, 0.09, 0.08, 0.12, 0.10, 0.09, 0.07, 0.11, 0.09]\n",
    "P_ORD = {\n",
    "    2  :0.14, \n",
    "    5  :0.12, \n",
    "    1  :0.11, \n",
    "    9  :0.11, \n",
    "    6  :0.10, \n",
    "    3  :0.09, \n",
    "    7  :0.09, \n",
    "    10 :0.09, \n",
    "    4  :0.08, \n",
    "    8  :0.07\n",
    "    }\n",
    "C = 0.14 # /0.1\n",
    "\n",
    "def var_rech():\n",
    "    ''' implementacion usando el metodo de rechazo\n",
    "    '''\n",
    "    ret = None\n",
    "    while ret is None:\n",
    "        y = int(random() * 10)\n",
    "        valid = random() < P[y] / C\n",
    "        ret = y + 1 if valid else None\n",
    "    return ret\n",
    "\n",
    "def var_tinv():\n",
    "    ''' Implementacion usando transformacion invertida \n",
    "    '''\n",
    "    u = random()\n",
    "    f = 0\n",
    "    for k, v in P_ORD.items():\n",
    "        f += v\n",
    "        if f >= u:\n",
    "            return k\n",
    "\n",
    "def _gen_urna():\n",
    "    res = []\n",
    "    for i in range(len(P)):\n",
    "        res += [i+1]*int(P[i]*100)\n",
    "    return res\n",
    "\n",
    "def var_urna():\n",
    "    ''' Implementacion usando el metodo de la variable invertida\n",
    "    '''\n",
    "    res = _gen_urna()\n",
    "    u = int(random() * 100)\n",
    "    return res[u]\n"
   ]
  },
  {
   "cell_type": "code",
   "execution_count": 5,
   "metadata": {},
   "outputs": [],
   "source": [
    "from random import seed\n",
    "import time \n",
    "\n",
    "def get_probs(g, nsim):\n",
    "    seed(1811)\n",
    "    acc = {}\n",
    "\n",
    "    start = time.perf_counter()\n",
    "    for _ in range(nsim):\n",
    "        r = g()\n",
    "        acc[r] = 1 + acc.get(r, 0)\n",
    "\n",
    "    end = time.perf_counter()\n",
    "\n",
    "    print(f'Perf: {end - start}')\n",
    "    acc = { k:v/nsim for k, v in acc.items() }\n",
    "    acc = dict(sorted(acc.items()))\n",
    "    print(acc)\n",
    "    return acc\n"
   ]
  },
  {
   "cell_type": "code",
   "execution_count": 6,
   "metadata": {},
   "outputs": [
    {
     "name": "stdout",
     "output_type": "stream",
     "text": [
      "Perf: 0.010840783000276133\n",
      "{1: 0.1153, 2: 0.1361, 3: 0.0846, 4: 0.0828, 5: 0.1206, 6: 0.0955, 7: 0.095, 8: 0.0768, 9: 0.1061, 10: 0.0872}\n"
     ]
    },
    {
     "data": {
      "image/png": "[encoded data removed]",
      "text/plain": [
       "<Figure size 432x288 with 1 Axes>"
      ]
     },
     "metadata": {
      "needs_background": "light"
     },
     "output_type": "display_data"
    },
    {
     "name": "stdout",
     "output_type": "stream",
     "text": [
      "Perf: 0.007168600000113656\n",
      "{1: 0.1142, 2: 0.1413, 3: 0.0921, 4: 0.0755, 5: 0.1194, 6: 0.0917, 7: 0.0916, 8: 0.0707, 9: 0.1114, 10: 0.0921}\n"
     ]
    },
    {
     "data": {
      "image/png": "[encoded data removed]",
      "text/plain": [
       "<Figure size 432x288 with 1 Axes>"
      ]
     },
     "metadata": {
      "needs_background": "light"
     },
     "output_type": "display_data"
    },
    {
     "name": "stdout",
     "output_type": "stream",
     "text": [
      "Perf: 0.03657206100069743\n",
      "{1: 0.1099, 2: 0.1405, 3: 0.096, 4: 0.078, 5: 0.1177, 6: 0.097, 7: 0.0928, 8: 0.0748, 9: 0.1053, 10: 0.088}\n"
     ]
    },
    {
     "data": {
      "image/png": "[encoded data removed]",
      "text/plain": [
       "<Figure size 432x288 with 1 Axes>"
      ]
     },
     "metadata": {
      "needs_background": "light"
     },
     "output_type": "display_data"
    }
   ],
   "source": [
    "import matplotlib.pyplot as plt\n",
    "for g in [lambda x: var_rech(), var_tinv, var_urna]:\n",
    "    acc = get_probs(g(),10_000)\n",
    "    plt.bar(acc.keys(),acc.values())\n",
    "    plt.show()\n"
   ]
  },
  {
   "cell_type": "markdown",
   "metadata": {},
   "source": [
    "# Ejercicio 5"
   ]
  },
  {
   "cell_type": "code",
   "execution_count": null,
   "metadata": {},
   "outputs": [],
   "source": [
    "def bin_inv(n,p):\n",
    "    '''\n",
    "    '''\n",
    "    c = p / (1-p)\n",
    "    prob = (1-p)**N\n",
    "    f, i = prob, 0\n",
    "    u = random()\n",
    "    while f >= u:\n",
    "        prob *= c * (n-i) * (i+1)\n",
    "        f += prob\n",
    "        i += 1 \n",
    "    return i\n",
    "\n",
    "def bin_sim(n,p):\n",
    "    pass\n",
    "\n",
    "def get_probs(g, nsim):\n",
    "    seed(928)\n",
    "    acc = {}\n",
    "    for _ in range(nsim):\n",
    "        r = g()\n",
    "        acc[r] = 1 + acc.get(r, 0)\n",
    "\n",
    "    acc = {k:v/nsim for k, v in acc.items()}\n",
    "    acc = dict(sorted(acc.items()))\n",
    "    return acc"
   ]
  }
 ],
 "metadata": {
  "kernelspec": {
   "display_name": "ModelosySimulacion-FAMAF4Y1C",
   "language": "python",
   "name": "python3"
  },
  "language_info": {
   "codemirror_mode": {
    "name": "ipython",
    "version": 3
   },
   "file_extension": ".py",
   "mimetype": "text/x-python",
   "name": "python",
   "nbconvert_exporter": "python",
   "pygments_lexer": "ipython3",
   "version": "3.10.12"
  }
 },
 "nbformat": 4,
 "nbformat_minor": 2
}

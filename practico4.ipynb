{
 "cells": [
  {
   "cell_type": "code",
   "execution_count": null,
   "metadata": {},
   "outputs": [],
   "source": [
    "# imports\n",
    "import numpy as np\n",
    "from math import factorial\n",
    "import random as rnd\n",
    "import p4_aux as p4"
   ]
  },
  {
   "cell_type": "code",
   "execution_count": null,
   "metadata": {},
   "outputs": [],
   "source": [
    "# Ejercicio 1c\n",
    "np.random.seed(1234)\n",
    "\n",
    "def shuffle_match(n):\n",
    "    mazo = np.arange(n)\n",
    "    perm = list(np.random.permutation(mazo))\n",
    "    return [ i == e for i, e in enumerate(perm)]\n",
    "\n",
    "print(\"Match 1 to 10\")\n",
    "for e in [2,3,4,5,6]:\n",
    "    nsim = 10**e\n",
    "    acc = 0\n",
    "    for _ in range(nsim):\n",
    "        deck = shuffle_match(100)\n",
    "        acc += sum(deck[:10]) == 10  # ignores 11:100\n",
    "    print(f'{nsim:7} | {acc/nsim}')\n",
    "\n",
    "print(\"Match only 1 to 10\")\n",
    "for e in [2,3,4,5,6]:\n",
    "    nsim = 10**e\n",
    "    acc = 0\n",
    "    for _ in range(nsim):\n",
    "        deck = shuffle_match(100)\n",
    "        acc += sum(deck[:10]) == 10 and sum(deck) == 10 # only matches at :10\n",
    "    print(f'{nsim:7} | {acc/nsim}')"
   ]
  },
  {
   "cell_type": "code",
   "execution_count": null,
   "metadata": {},
   "outputs": [],
   "source": [
    "def g_fun(x,k):\n",
    "    nk = 1/k-1\n",
    "    return (x**nk) / factorial(int(np.floor(nk)))\n",
    "\n",
    "x = 5\n",
    "for e in [2,3,4,5,6]:\n",
    "    nsim = 10**e\n",
    "    acc = 0\n",
    "    u = rnd.random()\n",
    "    for _ in range(nsim):\n",
    "        acc += g_fun(x,u)\n",
    "    print(f'{nsim:7} | {acc}')"
   ]
  },
  {
   "cell_type": "code",
   "execution_count": null,
   "metadata": {},
   "outputs": [],
   "source": [
    "from p3_aux import dice_dn\n",
    "\n",
    "rnd.seed(1234)\n",
    "\n",
    "res = {}\n",
    "acc = 0\n",
    "while len(res) < 11 and acc < 10**6:\n",
    "    acc += 1 \n",
    "    r = dice_dn(6) +  dice_dn(6)\n",
    "    res[r] = 1 + res.get(r, 0)\n",
    "\n",
    "print(acc, res)\n"
   ]
  }
 ],
 "metadata": {
  "kernelspec": {
   "display_name": "ModelosySimulacion-FAMAF4Y1C",
   "language": "python",
   "name": "python3"
  },
  "language_info": {
   "codemirror_mode": {
    "name": "ipython",
    "version": 3
   },
   "file_extension": ".py",
   "mimetype": "text/x-python",
   "name": "python",
   "nbconvert_exporter": "python",
   "pygments_lexer": "ipython3",
   "version": "3.12.3"
  }
 },
 "nbformat": 4,
 "nbformat_minor": 2
}

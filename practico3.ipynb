{
 "cells": [
  {
   "cell_type": "code",
   "execution_count": 4,
   "metadata": {},
   "outputs": [],
   "source": [
    "import p3_aux as p3\n",
    "from random import random, seed\n",
    "import math"
   ]
  },
  {
   "cell_type": "code",
   "execution_count": 2,
   "metadata": {},
   "outputs": [
    {
     "name": "stdout",
     "output_type": "stream",
     "text": [
      " 0: 3792,  1: 3792,  2: 3792,  3: 3792,  4: 3792,  5: 3792,  6: 3792,  7: 3792,  8: 3792,  9: 3792, 10: 3792, \n",
      "==============================================================================================================\n",
      " 0: 1004,  1:   80,  2:   64,  3:   40,  4:   16,  5:    2,  6:    0,  7:    0,  8:    0,  9:    0, 10:    0, \n",
      "==============================================================================================================\n",
      " 0: 2100,  1: 4100,  2: 8100,  3: 6100,  4: 2100,  5: 4100,  6: 8100,  7: 6100,  8: 2100,  9: 4100, 10: 8100, \n",
      "==============================================================================================================\n",
      " 0: 1234,  1: 5227,  2: 3215,  3: 3362,  4: 3030,  5: 1809,  6: 2724,  7: 4201,  8: 6484,  9:  422, 10: 1780, \n",
      "==============================================================================================================\n",
      "y0:  4 : 24, 28, 16, 20,  8, 12,  0,  4, 24, 28, 16\n",
      "====================================================\n",
      "y0: 50 : 30, 26,  6,  2, 14, 10, 22, 18, 30, 26,  6\n",
      "====================================================\n"
     ]
    }
   ],
   "source": [
    "# Ejercicio 1a\n",
    "for s in [3792, 1004, 2100, 1234]:\n",
    "    seed = s\n",
    "    result = ''\n",
    "    for i in range(11):\n",
    "        result += f'{i:2}: {seed:4}, '\n",
    "        seed = p3.von_neumann(seed)\n",
    "    print(result)\n",
    "    print(110*'=')\n",
    "g = lambda x : p3.cong(x,5,4,2**5)\n",
    "\n",
    "for s in [4,50]:\n",
    "    seed = s\n",
    "    result = f'y0: {seed:2} : '\n",
    "    for _ in range(11):\n",
    "        seed = g(seed)\n",
    "        result += f'{seed:2}, '\n",
    "    print(result[:-2])\n",
    "    print(52*'=')"
   ]
  },
  {
   "cell_type": "code",
   "execution_count": 22,
   "metadata": {},
   "outputs": [
    {
     "name": "stdout",
     "output_type": "stream",
     "text": [
      "CASE: y_i+1 = 125*y_i + 3 mod 512\n",
      "END : Repetition found at step 512\n",
      "==================================================\n",
      "CASE: y_i+1 = 123*y_i + 3 mod 512\n",
      "END : Repetition found at step 256\n",
      "==================================================\n",
      "CASE: y_i+1 = 5*y_i + 0 mod 71\n",
      "END : Repetition found at step 5\n",
      "==================================================\n",
      "CASE: y_i+1 = 7*y_i + 0 mod 71\n",
      "END : Repetition found at step 70\n",
      "==================================================\n"
     ]
    }
   ],
   "source": [
    "# Ejercicio 1b\n",
    "vals = [\n",
    "    (125, 3, 2**9),\n",
    "    (123, 3, 2**9),\n",
    "    (5, 0, 71),\n",
    "    (7, 0, 71)\n",
    "]\n",
    "\n",
    "\n",
    "seed = 16\n",
    "for t in vals:\n",
    "    g = lambda x: p3.cong(x ,t[0], t[1], t[2])\n",
    "    res = []\n",
    "\n",
    "    print(f'CASE: y_i+1 = {t[0]}*y_i + {t[1]} mod {t[2]}')\n",
    "\n",
    "    for i in range(1,t[2]+1):\n",
    "        res.append(seed)\n",
    "        seed = g(seed)\n",
    "        if seed in res:\n",
    "            print(f'END : Repetition found at step {i}')\n",
    "            break\n",
    "    res.append(seed)\n",
    "    print(50*'=')"
   ]
  },
  {
   "cell_type": "code",
   "execution_count": 58,
   "metadata": {},
   "outputs": [
    {
     "name": "stdout",
     "output_type": "stream",
     "text": [
      "  Win!! (: --- 1.08\n"
     ]
    }
   ],
   "source": [
    "# Ejercicio 2a"
   ]
  },
  {
   "cell_type": "markdown",
   "metadata": {},
   "source": [
    "$$\\begin{align}\n",
    "P('Ganar') &= P(W_1 + W_2 \\ge 1)*P(U\\ge 0.5)  + P(W_1 + W_2 + W_3 \\ge 1)*P(U\\lt 0.5)  \\\\\n",
    "&= {P(W_1 + W_2 \\ge 1)*0.5} + {P(W_1 + W_2 + W_3 \\ge 1)*0.5}\\\\\n",
    "&= {(1 - P(W_1 + W_2 \\lt 1))*0.5} + {(1 - P(W_1 + W_2 + W_3 \\lt 1))*0.5}\\\\\n",
    "&= 1 - \\bigg(P(W_1 + W_2 \\le 1)+P(W_1 + W_2 + W_3 \\le 1)\\bigg)*0.5\\\\\n",
    "&= 1 - \\bigg(F_{W_1 + W_2}(1)+F_{W_1 + W_2 + W_3}(1)\\bigg)*0.5\\\\\n",
    "&= 1 - \\bigg(\\int_0^1 f_{W_1 + W_2}(x)\\ dx+\\int_0^1 f_{W_1 + W_2 + W_3}(x)\\ dx\\bigg)*0.5\\\\\n",
    "&= 1 - \\bigg(\\int_0^1 x\\ dx+\\int_0^1 {x^2\\over 2}\\ dx\\bigg)*0.5\\\\\n",
    "&= 1 - \\bigg({1\\over 2}+{1\\over 6}\\bigg)*{1\\over 2}\\\\\n",
    "&= {2\\over 3}\\\\\n",
    "\\end{align}$$\n",
    "\n",
    "#### Demonstraciones Auxiliares para (6)\n",
    "Dados $X, Y\\sim U(0,1)$ independientes, sabemos que\n",
    "$$\\begin{align}\n",
    "F_{X+Y}(a) &= P(X+Y\\le a)\\\\\n",
    "&= \\int^{\\infty}_{-\\infty}\\int^{a-x}_{-\\infty} f_{X,Y}(x,y)\\ dy\\ dx\\\\\n",
    "&= \\int^{1}_{0}\\int^{a}_{0} f_X(x)f_Y(y - x)\\ dy\\ dx\n",
    "\\end{align}$$\n",
    "Definimos\n",
    "$$\n",
    "f_{X+Y}(u) = \\int^{a}_{0} f_X(x)f_Y(y - x)\\ dy\n",
    "$$ \n",
    "Luego\n",
    "\n",
    "$$\\begin{align}\n",
    "f_{X+Y}(u) &= \\int^u_0 f_X(x)f_Y(u-x)\\ dx \\\\\n",
    "&= \\int^u_0 \\mathbb I_{0,1}(x) \\mathbb I_{0,1}(u-x)\\ dx &\\text{\\{Vemos claramente que }u-x\\in(0,1)\\text{\\}} \\\\\n",
    "&= \\int^u_0 dx \\\\\n",
    "&= u\n",
    "\n",
    "\\end{align}$$\n",
    "\n",
    "Dado $Z\\sim U(0,1)$\n",
    "\n",
    "$$\\begin{align}\n",
    "P(X+Y+Z\\le u) &= \\int^u_0 f_{X+Y}(x)f_Z(u-x)\\ dx \\\\\n",
    "&= \\int^u_0 x f_Z(u-x)\\ dx \\\\\n",
    "&= \\int^u_0 x\\ dx \\\\\n",
    "&= {x^2\\over 2} \\\\\n",
    "\\end{align}$$"
   ]
  },
  {
   "cell_type": "code",
   "execution_count": 19,
   "metadata": {},
   "outputs": [
    {
     "name": "stdout",
     "output_type": "stream",
     "text": [
      "    100 : 0.75 : 75 vs 25\n",
      "   1000 : 0.68 : 682 vs 318\n",
      "  10000 : 0.66 : 6632 vs 3368\n",
      " 100000 : 0.67 : 66522 vs 33478\n",
      "1000000 : 0.67 : 665430 vs 334570\n"
     ]
    }
   ],
   "source": [
    "# Ejercicio 2b\n",
    "def sim():\n",
    "    u = random()\n",
    "    x = random() + random()\n",
    "    if u >= 0.5:\n",
    "        x += random()\n",
    "    return x\n",
    "\n",
    "seed(1234)\n",
    "\n",
    "for e in range(2,7):\n",
    "    n = 10**e\n",
    "    won = 0\n",
    "    lost = 0\n",
    "    for _ in range(n):\n",
    "        if sim() >= 1:\n",
    "            won += 1\n",
    "        else:\n",
    "            lost += 1\n",
    "\n",
    "    print(f'{n:7} : {won/(lost+won):.2} : {won} vs {lost}')"
   ]
  },
  {
   "cell_type": "markdown",
   "metadata": {},
   "source": [
    "# Ejercicio 3a\n",
    "Siguiendo el mismo procedimiento del ejercicio anterior llegamos a:\n",
    "$$\n",
    "\\begin{align}\n",
    "P('Ganar') &= P(W_1 + W_2 \\ge 2)*P(U\\ge 0.5)  + P(W_1 + W_2 + W_3 \\ge 2)*P(U\\lt 0.5)  \\\\\n",
    "&= {P(W_1 + W_2 \\ge 2)*0.5} + {P(W_1 + W_2 + W_3 \\ge 2)*0.5}\\\\\n",
    "&= {(1 - P(W_1 + W_2 \\lt 2))*0.5} + {(1 - P(W_1 + W_2 + W_3 \\lt 2))*0.5}\\\\\n",
    "&= 1 - \\bigg(P(W_1 + W_2 \\le 2)+P(W_1 + W_2 + W_3 \\le 2)\\bigg)*0.5\\\\\n",
    "&= 1 - \\bigg(F_{W_1 + W_2}(2)+F_{W_1 + W_2 + W_3}(2)\\bigg)*0.5\\\\\n",
    "&= 1 - \\bigg(\\int_0^2 f_{W_1 + W_2}(x)\\ dx+\\int_0^2 f_{W_1 + W_2 + W_3}(x)\\ dx\\bigg)*0.5\\\\\n",
    "&= 1 - \\bigg(\\int_0^2 x\\ dx+\\int_0^2 {x^2\\over 2}\\ dx\\bigg)*0.5\\\\\n",
    "&= 1 - \\bigg({2^2\\over 2}+{2^3\\over 6}\\bigg)*{1\\over 2}\\\\\n",
    "&\\simeq \\\\\n",
    "\\end{align}\n",
    "$$"
   ]
  },
  {
   "cell_type": "code",
   "execution_count": 33,
   "metadata": {},
   "outputs": [
    {
     "name": "stdout",
     "output_type": "stream",
     "text": [
      "    100 : 0.87 : 87 vs 13\n",
      "   1000 : 0.87 : 871 vs 129\n",
      "  10000 : 0.89 : 8933 vs 1067\n",
      " 100000 : 0.89 : 88988 vs 11012\n",
      "1000000 : 0.89 : 889224 vs 110776\n"
     ]
    }
   ],
   "source": [
    "# Ejercicio 3b\n",
    "seed(1234)\n",
    "def tragamonedas():\n",
    "    w = random()\n",
    "    x = random() + random()\n",
    "    if w >= 1/3:\n",
    "        x += random()\n",
    "    return x <= 2\n",
    "\n",
    "for e in range(2,7):\n",
    "    n = 10**e\n",
    "    won = 0\n",
    "    lost = 0\n",
    "    for _ in range(n):\n",
    "        if tragamonedas():\n",
    "            won += 1\n",
    "        else:\n",
    "            lost += 1\n",
    "\n",
    "    print(f'{n:7} : {won/(lost+won):.2} : {won} vs {lost}')"
   ]
  },
  {
   "cell_type": "code",
   "execution_count": null,
   "metadata": {},
   "outputs": [],
   "source": [
    "# Ejercicio 5\n",
    "\n",
    "fa = lambda x : (1-x**2)**(2/3)     # a\n",
    "fb = lambda x : (x)/(x**2-1)        # b\n",
    "fc = lambda x : x*(1+x**2)**(-2)    # c\n",
    "fd = lambda x : math.e**(-x**2)     # d\n",
    "\n",
    "# Faltan e y f\n",
    "\n"
   ]
  }
 ],
 "metadata": {
  "kernelspec": {
   "display_name": "Python 3",
   "language": "python",
   "name": "python3"
  },
  "language_info": {
   "codemirror_mode": {
    "name": "ipython",
    "version": 3
   },
   "file_extension": ".py",
   "mimetype": "text/x-python",
   "name": "python",
   "nbconvert_exporter": "python",
   "pygments_lexer": "ipython3",
   "version": "3.10.12"
  }
 },
 "nbformat": 4,
 "nbformat_minor": 2
}

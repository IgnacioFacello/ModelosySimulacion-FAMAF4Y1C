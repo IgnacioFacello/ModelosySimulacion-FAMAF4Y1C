{
 "cells": [
  {
   "cell_type": "code",
   "execution_count": null,
   "metadata": {},
   "outputs": [],
   "source": [
    "import p3_aux as p3\n",
    "import random as rnd\n",
    "import numpy as np\n",
    "    \n",
    "rnd.seed(1234)"
   ]
  },
  {
   "cell_type": "code",
   "execution_count": null,
   "metadata": {},
   "outputs": [],
   "source": [
    "# Ejercicio 1a\n",
    "for s in [3792, 1004, 2100, 1234]:\n",
    "    seed = s\n",
    "    result = ''\n",
    "    for i in range(11):\n",
    "        result += f'{i:2}: {seed:4}, '\n",
    "        seed = p3.von_neumann(seed)\n",
    "    print(result)\n",
    "    print(110*'=')\n",
    "g = lambda x : p3.cong(x,5,4,2**5)\n",
    "\n",
    "for s in [4,50]:\n",
    "    seed = s\n",
    "    result = f'y0: {seed:2} : '\n",
    "    for _ in range(11):\n",
    "        seed = g(seed)\n",
    "        result += f'{seed:2}, '\n",
    "    print(result[:-2])\n",
    "    print(52*'=')"
   ]
  },
  {
   "cell_type": "code",
   "execution_count": null,
   "metadata": {},
   "outputs": [],
   "source": [
    "# Ejercicio 1b\n",
    "vals = [\n",
    "    (125, 3, 2**9),\n",
    "    (123, 3, 2**9),\n",
    "    (5, 0, 71),\n",
    "    (7, 0, 71)\n",
    "]\n",
    "\n",
    "\n",
    "seed = 16\n",
    "for t in vals:\n",
    "    g = lambda x: p3.cong(x ,t[0], t[1], t[2])\n",
    "    res = []\n",
    "\n",
    "    print(f'CASE: y_i+1 = {t[0]}*y_i + {t[1]} mod {t[2]}')\n",
    "\n",
    "    for i in range(1,t[2]+1):\n",
    "        res.append(seed)\n",
    "        seed = g(seed)\n",
    "        if seed in res:\n",
    "            print(f'END : Repetition found at step {i}')\n",
    "            break\n",
    "    res.append(seed)\n",
    "    print(50*'=')"
   ]
  },
  {
   "cell_type": "markdown",
   "metadata": {},
   "source": [
    "# Ejercicio 2a\n",
    "$$\\begin{align}\n",
    "P('Ganar') &= P(W_1 + W_2 \\ge 1)*P(U\\ge 0.5)  + P(W_1 + W_2 + W_3 \\ge 1)*P(U\\lt 0.5)  \\\\\n",
    "&= {P(W_1 + W_2 \\ge 1)*0.5} + {P(W_1 + W_2 + W_3 \\ge 1)*0.5}\\\\\n",
    "&= {(1 - P(W_1 + W_2 \\lt 1))*0.5} + {(1 - P(W_1 + W_2 + W_3 \\lt 1))*0.5}\\\\\n",
    "&= 1 - \\bigg(P(W_1 + W_2 \\le 1)+P(W_1 + W_2 + W_3 \\le 1)\\bigg)*0.5\\\\\n",
    "&= 1 - \\bigg(F_{W_1 + W_2}(1)+F_{W_1 + W_2 + W_3}(1)\\bigg)*0.5\\\\\n",
    "&= 1 - \\bigg(\\int_0^1 f_{W_1 + W_2}(x)\\ dx+\\int_0^1 f_{W_1 + W_2 + W_3}(x)\\ dx\\bigg)*0.5\\\\\n",
    "&= 1 - \\bigg(\\int_0^1 x\\ dx+\\int_0^1 {x^2\\over 2}\\ dx\\bigg)*0.5\\\\\n",
    "&= 1 - \\bigg({1\\over 2}+{1\\over 6}\\bigg)*{1\\over 2}\\\\\n",
    "&= {2\\over 3}\\\\\n",
    "\\end{align}$$\n",
    "\n",
    "#### Demonstraciones Auxiliares para (6)\n",
    "Dados $X, Y\\sim U(0,1)$ independientes, sabemos que\n",
    "$$\\begin{align}\n",
    "F_{X+Y}(a) &= P(X+Y\\le a)\\\\\n",
    "&= \\int^{\\infty}_{-\\infty}\\int^{a-x}_{-\\infty} f_{X,Y}(x,y)\\ dy\\ dx\\\\\n",
    "&= \\int^{1}_{0}\\int^{a}_{0} f_X(x)f_Y(y - x)\\ dy\\ dx\n",
    "\\end{align}$$\n",
    "Definimos\n",
    "$$\n",
    "f_{X+Y}(u) = \\int^{a}_{0} f_X(x)f_Y(y - x)\\ dy\n",
    "$$ \n",
    "Luego\n",
    "\n",
    "$$\\begin{align}\n",
    "f_{X+Y}(u) &= \\int^u_0 f_X(x)f_Y(u-x)\\ dx \\\\\n",
    "&= \\int^u_0 \\mathbb I_{0,1}(x) \\mathbb I_{0,1}(u-x)\\ dx &\\text{\\{Vemos claramente que }u-x\\in(0,1)\\text{\\}} \\\\\n",
    "&= \\int^u_0 dx \\\\\n",
    "&= u\n",
    "\n",
    "\\end{align}$$\n",
    "\n",
    "Dado $Z\\sim U(0,1)$\n",
    "\n",
    "$$\\begin{align}\n",
    "P(X+Y+Z\\le u) &= \\int^u_0 f_{X+Y}(x)f_Z(u-x)\\ dx \\\\\n",
    "&= \\int^u_0 x f_Z(u-x)\\ dx \\\\\n",
    "&= \\int^u_0 x\\ dx \\\\\n",
    "&= {x^2\\over 2} \\\\\n",
    "\\end{align}$$"
   ]
  },
  {
   "cell_type": "code",
   "execution_count": null,
   "metadata": {},
   "outputs": [],
   "source": [
    "# Ejercicio 2b\n",
    "def sim():\n",
    "    u = rnd.random()\n",
    "    x = rnd.random() + rnd.random()\n",
    "    if u >= 0.5:\n",
    "        x += rnd.random()\n",
    "    return x\n",
    "\n",
    "for e in range(2,7):\n",
    "    n = 10**e\n",
    "    won = 0\n",
    "    lost = 0\n",
    "    for _ in range(n):\n",
    "        if sim() >= 1:\n",
    "            won += 1\n",
    "        else:\n",
    "            lost += 1\n",
    "\n",
    "    print(f'{n:7} : {won/(lost+won):.2} : {won} vs {lost}')"
   ]
  },
  {
   "cell_type": "markdown",
   "metadata": {},
   "source": [
    "# Ejercicio 3a\n",
    "Siguiendo el mismo procedimiento del ejercicio anterior llegamos a:\n",
    "$$\n",
    "\\begin{align}\n",
    "P('Ganar') &= P(W_1 + W_2 \\ge 2)*P(U\\ge 0.5)  + P(W_1 + W_2 + W_3 \\ge 2)*P(U\\lt 0.5)  \\\\\n",
    "&= {P(W_1 + W_2 \\ge 2)*0.5} + {P(W_1 + W_2 + W_3 \\ge 2)*0.5}\\\\\n",
    "&= {(1 - P(W_1 + W_2 \\lt 2))*0.5} + {(1 - P(W_1 + W_2 + W_3 \\lt 2))*0.5}\\\\\n",
    "&= 1 - \\bigg(P(W_1 + W_2 \\le 2)+P(W_1 + W_2 + W_3 \\le 2)\\bigg)*0.5\\\\\n",
    "&= 1 - \\bigg(F_{W_1 + W_2}(2)+F_{W_1 + W_2 + W_3}(2)\\bigg)*0.5\\\\\n",
    "&= 1 - \\bigg(\\int_0^2 f_{W_1 + W_2}(x)\\ dx+\\int_0^2 f_{W_1 + W_2 + W_3}(x)\\ dx\\bigg)*0.5\\\\\n",
    "&= 1 - \\bigg(\\int_0^2 x\\ dx+\\int_0^2 {x^2\\over 2}\\ dx\\bigg)*0.5\\\\\n",
    "&= 1 - \\bigg({2^2\\over 2}+{2^3\\over 6}\\bigg)*{1\\over 2}\\\\\n",
    "&\\simeq \\\\\n",
    "\\end{align}\n",
    "$$"
   ]
  },
  {
   "cell_type": "code",
   "execution_count": null,
   "metadata": {},
   "outputs": [],
   "source": [
    "# Ejercicio 3b\n",
    "def tragamonedas():\n",
    "    w = rnd.random()\n",
    "    x = rnd.random() + rnd.random()\n",
    "    if w >= 1/3:\n",
    "        x += rnd.random()\n",
    "    return x <= 2\n",
    "\n",
    "for e in range(2,7):\n",
    "    n = 10**e\n",
    "    won = 0\n",
    "    lost = 0\n",
    "    for _ in range(n):\n",
    "        if tragamonedas():\n",
    "            won += 1\n",
    "        else:\n",
    "            lost += 1\n",
    "\n",
    "    print(f'{n:7} : {won/(lost+won):.2} : {won} vs {lost}')"
   ]
  },
  {
   "cell_type": "code",
   "execution_count": null,
   "metadata": {},
   "outputs": [],
   "source": [
    "# Ejercicio 4c\n",
    "def register():\n",
    "    ev = rnd.random()\n",
    "    if ev <= 0.4:\n",
    "        return 1\n",
    "    elif ev <= 0.4 + 0.32:\n",
    "        return 2\n",
    "    else:\n",
    "        return 3\n",
    "\n"
   ]
  },
  {
   "cell_type": "code",
   "execution_count": null,
   "metadata": {},
   "outputs": [],
   "source": [
    "# Ejercicio 5 auxiliares\n",
    "def mtc(g, montecarlo):\n",
    "    for n in [2,3,4,5,6]:\n",
    "        res = montecarlo(g, 10**n)\n",
    "        print(f'{10**n:7} || {res:.5}')\n",
    "        \n",
    "def mtc_01(g):\n",
    "    mtc(g, lambda f, n: p3.montecarlo_01(f, n))\n",
    "    \n",
    "def mtc_inf(g):\n",
    "    mtc(g, lambda f, n: p3.montecarlo_inf(f, n))\n",
    "\n",
    "def mtc_01_2(g):\n",
    "    mtc(g, lambda f, n: p3.montecarlo_01_2(f, n))\n",
    "    \n",
    "def mtc_inf_2(g):\n",
    "    mtc(g, lambda f, n: p3.montecarlo_inf_2(f, n))"
   ]
  },
  {
   "cell_type": "markdown",
   "metadata": {},
   "source": [
    "$$\\int^1_0(1-x^2)^{3/2}dx$$"
   ]
  },
  {
   "cell_type": "code",
   "execution_count": null,
   "metadata": {},
   "outputs": [],
   "source": [
    "# Ejercicio 5a\n",
    "g = lambda x: (1-x**2)**(3/2)\n",
    "\n",
    "mtc_01(g)"
   ]
  },
  {
   "cell_type": "markdown",
   "metadata": {},
   "source": [
    "$$\\int^1_0{(y+2)\\over((y+2)^2-1)}dy$$"
   ]
  },
  {
   "cell_type": "code",
   "execution_count": null,
   "metadata": {},
   "outputs": [],
   "source": [
    "# ejercicio 5b\n",
    "g = lambda y: (y+2)/((y+2)**2-1)\n",
    "\n",
    "mtc_01(g)"
   ]
  },
  {
   "cell_type": "code",
   "execution_count": null,
   "metadata": {},
   "outputs": [],
   "source": [
    "# Ejercicio 5c\n",
    "g = lambda y: \\\n",
    "      (1/y - 1) * \\\n",
    "      (1 + (1/y - 1)**2)**(-2) * \\\n",
    "      (1/y**2)\n",
    "\n",
    "mtc_01(g)"
   ]
  },
  {
   "cell_type": "code",
   "execution_count": null,
   "metadata": {},
   "outputs": [],
   "source": [
    "# Ejercicio 5d\n",
    "g =lambda y: \\\n",
    "      ( np.exp(-((1/y)-1)**2  ) + \\\n",
    "        np.exp(-(-1+(1/y))**2 )   \\\n",
    "      ) * (1/y**2)\n",
    "\n",
    "galt = lambda u : 2*np.exp(-u**2)\n",
    "\n",
    "print('Estimacion por funcion')\n",
    "mtc_inf(galt)\n",
    "\n",
    "print('\\nEstimacion por redefinicion')\n",
    "mtc_01(g)"
   ]
  },
  {
   "cell_type": "markdown",
   "metadata": {},
   "source": [
    "$$\\int^1_0\\left[\\int^1_0{e^{(x+y)^2}}dx\\right] dy$$"
   ]
  },
  {
   "cell_type": "code",
   "execution_count": null,
   "metadata": {},
   "outputs": [],
   "source": [
    "# ejercicio 5e\n",
    "g = lambda x, y: np.exp((x+y)**2)\n",
    "\n",
    "mtc_01_2(g)"
   ]
  },
  {
   "cell_type": "markdown",
   "metadata": {},
   "source": [
    "$$\\int^\\infty_0\\left[\\int^x_0{e^{-(x+y)}}dx\\right] dy$$"
   ]
  },
  {
   "cell_type": "code",
   "execution_count": null,
   "metadata": {},
   "outputs": [],
   "source": [
    "# Ejercicio 5d\n",
    "''' Idea: Usar una indicadora\n",
    "'''\n",
    "def ind(x,y):\n",
    "    return 1 if y < x else 0\n",
    "\n",
    "g = lambda x,y: np.exp(-(x+y))*ind(x,y)\n",
    "\n",
    "mtc_inf_2(g)\n"
   ]
  },
  {
   "cell_type": "markdown",
   "metadata": {},
   "source": [
    "# Ejercicio 6\n",
    "$$\\pi = \\int_0^1 \\left[\\int_0^{y²} 1 *\\mathbb I_{[]} dx\\right]dy$$"
   ]
  },
  {
   "cell_type": "code",
   "execution_count": null,
   "metadata": {},
   "outputs": [],
   "source": [
    "# Ejercicio 6\n",
    "''' pi = A/r**2\n",
    "'''\n",
    "def mtc_pi(g):\n",
    "    for n in [2,3,4,5,6]:\n",
    "        res = p3.montecarlo_01_2(g, 10**n)*4\n",
    "        print(f'{10**n:7} || {res:.5}')\n",
    " \n",
    "''' Sumamos 1 solo si el punto cae dentro del area del circulo\n",
    "'''\n",
    "ind = lambda x,y: 1 if x**2+y**2 <= 1 else 0\n",
    "\n",
    "mtc_pi(ind)"
   ]
  },
  {
   "cell_type": "code",
   "execution_count": null,
   "metadata": {},
   "outputs": [],
   "source": [
    "# Ejercicio 7\n",
    "\n",
    "def min_one():\n",
    "    acc = 0\n",
    "    n = 0\n",
    "    while acc < 1:\n",
    "        acc += rnd.random()\n",
    "        n += 1\n",
    "    return n\n",
    "\n",
    "for e in [2,3,4,5,6]:\n",
    "    acc = 0\n",
    "    for i in range(10**e):\n",
    "        acc += min_one()\n",
    "    print(f'{10**e:7} | {acc/(10**e)}')"
   ]
  },
  {
   "cell_type": "code",
   "execution_count": null,
   "metadata": {},
   "outputs": [],
   "source": [
    "# Ejercicio 8\n",
    "rnd.seed(1234)\n",
    "\n",
    "def max_one():\n",
    "    acc = 1\n",
    "    n = 0\n",
    "    while acc >= np.exp(-3):\n",
    "        acc *= rnd.random()\n",
    "        n += 1\n",
    "    return n\n",
    "\n",
    "print('Ejercicio a')\n",
    "for e in [2,3,4,5,6]:\n",
    "    acc = 0\n",
    "    for i in range(10**e):\n",
    "        acc += max_one()\n",
    "    print(f'{10**e:7} | {acc/(10**e)}')\n",
    "\n",
    "print('\\nEjercicio b')\n",
    "for i in range(7):\n",
    "    acc = 0\n",
    "    for _ in range(10**6):\n",
    "        acc += 1 if min_one() == i else 0\n",
    "    print(f'P(N={i}) = {acc/(10**6)}') "
   ]
  },
  {
   "cell_type": "code",
   "execution_count": null,
   "metadata": {},
   "outputs": [],
   "source": [
    "# Ejercicio 9a\n",
    "acc = 0\n",
    "for a in range(7,12+1):\n",
    "    for x in range(1,6+1):\n",
    "        acc += (1/36)/2\n",
    "\n",
    "print(acc)"
   ]
  }
 ],
 "metadata": {
  "kernelspec": {
   "display_name": "Python 3",
   "language": "python",
   "name": "python3"
  },
  "language_info": {
   "codemirror_mode": {
    "name": "ipython",
    "version": 3
   },
   "file_extension": ".py",
   "mimetype": "text/x-python",
   "name": "python",
   "nbconvert_exporter": "python",
   "pygments_lexer": "ipython3",
   "version": "3.12.3"
  }
 },
 "nbformat": 4,
 "nbformat_minor": 2
}

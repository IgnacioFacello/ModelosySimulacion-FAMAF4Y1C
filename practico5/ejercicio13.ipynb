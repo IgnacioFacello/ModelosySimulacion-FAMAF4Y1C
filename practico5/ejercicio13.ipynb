{
 "cells": [
  {
   "cell_type": "code",
   "execution_count": 81,
   "metadata": {},
   "outputs": [],
   "source": [
    "import random as rnd\n",
    "import numpy as np\n",
    "import matplotlib.pyplot as plt"
   ]
  },
  {
   "cell_type": "code",
   "execution_count": 82,
   "metadata": {},
   "outputs": [],
   "source": [
    "def poisson(lam):\n",
    "    p = np.exp(-lam)\n",
    "    f = p\n",
    "    for j in range(1, int(lam) + 1):\n",
    "        p *= lam / j\n",
    "        f += p\n",
    "    u = rnd.random()\n",
    "    if u >= f:\n",
    "        j = int(lam) + 1\n",
    "        while u >= f:\n",
    "            p *= lam/ j\n",
    "            f += p\n",
    "            j += 1\n",
    "        return j - 1\n",
    "    else:\n",
    "        j = int(lam)\n",
    "        while u < f:\n",
    "            f -= p\n",
    "            p *= j / lam\n",
    "            j -= 1\n",
    "        return j + 1"
   ]
  },
  {
   "cell_type": "code",
   "execution_count": 83,
   "metadata": {},
   "outputs": [],
   "source": [
    "def var_exp(l):\n",
    "    return - np.log(1 - rnd.random()) / l\n",
    "\n",
    "def proc_poisson(t, l):\n",
    "    c_t = 0\n",
    "    nt = 0\n",
    "    eventos = []\n",
    "    while c_t < t:\n",
    "        c_t += var_exp(l)\n",
    "        if c_t <= t:\n",
    "            nt += 1\n",
    "            eventos.append(c_t)\n",
    "    return nt, eventos"
   ]
  },
  {
   "cell_type": "code",
   "execution_count": 84,
   "metadata": {},
   "outputs": [],
   "source": [
    "def poisson_rec(lam, i, p_i):\n",
    "    return p_i * lam / i if i > 0 else np.exp(-lam)\n",
    "\n",
    "def poisson_prob(lam, i):\n",
    "    last = 0\n",
    "    acc = []\n",
    "    for k in range(i+1):\n",
    "        last = poisson_rec(lam, k, last)\n",
    "        acc.append(last)\n",
    "    return acc\n",
    "\n",
    "def proc_poisson_imp(tt, lam):\n",
    "    poi = poisson(lam*tt)\n",
    "    n = poisson_prob(lam*tt)\n",
    "    return None"
   ]
  },
  {
   "cell_type": "code",
   "execution_count": 85,
   "metadata": {},
   "outputs": [
    {
     "data": {
      "image/png": "[encoded data removed]",
      "text/plain": [
       "<Figure size 1500x500 with 1 Axes>"
      ]
     },
     "metadata": {},
     "output_type": "display_data"
    }
   ],
   "source": [
    "T = 15\n",
    "\n",
    "t, evs = proc_poisson(T,1)\n",
    "\n",
    "for ev in evs:\n",
    "    plt.plot([ev,ev],[1.5,0.5])\n",
    "\n",
    "plt.yticks(np.arange(0,3,1))\n",
    "plt.xticks(np.arange(0,T+1,0.5))\n",
    "fig = plt.gcf()\n",
    "fig.set_size_inches(15,5)\n",
    "plt.show()"
   ]
  }
 ],
 "metadata": {
  "kernelspec": {
   "display_name": "MyS-Practicos",
   "language": "python",
   "name": "python3"
  },
  "language_info": {
   "codemirror_mode": {
    "name": "ipython",
    "version": 3
   },
   "file_extension": ".py",
   "mimetype": "text/x-python",
   "name": "python",
   "nbconvert_exporter": "python",
   "pygments_lexer": "ipython3",
   "version": "3.12.3"
  }
 },
 "nbformat": 4,
 "nbformat_minor": 2
}

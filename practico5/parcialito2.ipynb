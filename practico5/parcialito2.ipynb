{
 "cells": [
  {
   "cell_type": "code",
   "execution_count": null,
   "metadata": {},
   "outputs": [],
   "source": [
    "ls = [.22,.33,.17,.2799,.0001]\n",
    "\n",
    "acc = 0\n",
    "for i, v in enumerate(ls):\n",
    "    acc += v\n",
    "    print(f'U < {acc:6.4} ({v:6.4}) ==> {i+1 if i < 4 else 100}')\n",
    "\n",
    "print()\n",
    "print(sum(ls))\n",
    "\n",
    "acc = 0\n",
    "s = ''\n",
    "for i, v in enumerate(ls[:-1]):\n",
    "    s += f'{1+i}*{v} + '\n",
    "    acc += (1+i)*v\n",
    "\n",
    "print()\n",
    "print(f'{acc:.2} = {s[:-2]}')"
   ]
  }
 ],
 "metadata": {
  "language_info": {
   "name": "python"
  }
 },
 "nbformat": 4,
 "nbformat_minor": 2
}

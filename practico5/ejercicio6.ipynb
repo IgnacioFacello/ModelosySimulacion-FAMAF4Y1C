{
 "cells": [
  {
   "cell_type": "markdown",
   "metadata": {},
   "source": [
    "# Ejercicio 6"
   ]
  },
  {
   "cell_type": "markdown",
   "metadata": {},
   "source": [
    "Tenemos que la funcion de distribucion es\n",
    "$$\\begin{align}\n",
    "&F(x) = x^n  & & 0 \\le x \\le 1\n",
    "\\end{align}$$\n",
    "\n",
    "Lo cual implica qque la funcion de probabilidad de masa es \n",
    "$$\\begin{align}\n",
    "&f(x) = n*x^{n-1} & & 0 \\le x \\le 1\n",
    "\\end{align}$$\n",
    "\n",
    "Podemos tomar $g(y)$ la funcion de masa de una Uniforme 0,1 y...\n",
    "$$\\begin{align}\n",
    "&h(x) = n*x^{n-1} & & 0 \\lt x \\le 1\n",
    "\\end{align}$$\n",
    "\n",
    "$$\n",
    "\\lim_{x\\to 0} = 0\n",
    "$$\n",
    "\n",
    "$$\n",
    "\\lim_{x\\to 1} = n\n",
    "$$\n",
    "\n",
    "$h(x)$ tiene maximo en 1 y es n, por lo tanto tomamos c = n"
   ]
  },
  {
   "cell_type": "code",
   "execution_count": 40,
   "metadata": {},
   "outputs": [],
   "source": [
    "import random as rnd\n",
    "\n",
    "def fmass(x,n):\n",
    "    return n*x**(n-1)\n",
    "\n",
    "def fdist(x, n):\n",
    "    return x**n\n",
    "\n",
    "def tinv(n):\n",
    "    u = rnd.random()\n",
    "    return u**(1/n)\n",
    "\n",
    "def ayr1(n):\n",
    "    us = [ rnd.random() for _ in range(n) ]\n",
    "    return max(us)\n",
    "\n",
    "def ayr2(n):\n",
    "    us = [ 1 - rnd.random() for _ in range(n) ]\n",
    "    return 1 - min(us)\n"
   ]
  },
  {
   "cell_type": "code",
   "execution_count": 41,
   "metadata": {},
   "outputs": [],
   "source": [
    "import matplotlib.pyplot as plt\n",
    "import numpy as np\n",
    "import time\n",
    "\n",
    "def get_probs(g, nsim, *args):\n",
    "    rnd.seed(1000)\n",
    "    acc = []\n",
    "\n",
    "    start = time.perf_counter()\n",
    "    for _ in range(nsim):\n",
    "        r = g(*args)\n",
    "        acc.append(r)\n",
    "\n",
    "    end = time.perf_counter()\n",
    "\n",
    "    perf = end - start\n",
    "    return acc, perf\n",
    "\n",
    "def plot_probs(vars, nsim):\n",
    "    i = -0.5\n",
    "    x = np.arange(0,1,0.1)\n",
    "    for n, g, v in vars:\n",
    "        print(75*'-')\n",
    "        print(n)\n",
    "        \n",
    "        acc, perf = get_probs(g, nsim, *v)\n",
    "\n",
    "        print(f'Perf:\\t {perf:.5}ms')\n",
    "        \n",
    "        y = []\n",
    "        for i in x:\n",
    "            f_le = list(filter(lambda k : k <= i, acc))\n",
    "            v = len(f_le) / nsim\n",
    "            y.append(v)\n",
    "            \n",
    "        plt.plot(x,y, label=n)\n",
    "        \n",
    "        i += 1"
   ]
  },
  {
   "cell_type": "code",
   "execution_count": 42,
   "metadata": {},
   "outputs": [
    {
     "name": "stdout",
     "output_type": "stream",
     "text": [
      "---------------------------------------------------------------------------\n",
      "Invertida \n",
      "Perf:\t 0.0033625ms\n",
      "---------------------------------------------------------------------------\n",
      "AyR Maximo\n",
      "Perf:\t 0.011793ms\n",
      "---------------------------------------------------------------------------\n",
      "AyR 2\n",
      "Perf:\t 0.012204ms\n"
     ]
    },
    {
     "data": {
      "image/png": "[encoded data removed]",
      "text/plain": [
       "<Figure size 640x480 with 1 Axes>"
      ]
     },
     "metadata": {},
     "output_type": "display_data"
    }
   ],
   "source": [
    "N = 5\n",
    "vars = [\n",
    "    ('Invertida ', tinv, [N]),\n",
    "    ('AyR Maximo', ayr1, [N]),\n",
    "    ('AyR 2', ayr2, [N]),\n",
    "]\n",
    "\n",
    "xs = np.arange(0,1,0.1)\n",
    "ys = [ fdist(x, N) for x in xs ]\n",
    "plt.plot(xs, ys, label='Fun')\n",
    "\n",
    "plot_probs(vars, 10_000)\n",
    "\n",
    "plt.legend()\n",
    "plt.show()"
   ]
  }
 ],
 "metadata": {
  "kernelspec": {
   "display_name": "MyS-Practicos",
   "language": "python",
   "name": "python3"
  },
  "language_info": {
   "codemirror_mode": {
    "name": "ipython",
    "version": 3
   },
   "file_extension": ".py",
   "mimetype": "text/x-python",
   "name": "python",
   "nbconvert_exporter": "python",
   "pygments_lexer": "ipython3",
   "version": "3.12.3"
  }
 },
 "nbformat": 4,
 "nbformat_minor": 2
}

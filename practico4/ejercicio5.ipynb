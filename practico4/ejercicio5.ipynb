{
 "cells": [
  {
   "cell_type": "markdown",
   "metadata": {},
   "source": [
    "# Ejercicio 5"
   ]
  },
  {
   "cell_type": "code",
   "execution_count": 1,
   "metadata": {},
   "outputs": [],
   "source": [
    "from random import random, seed\n",
    "import matplotlib.pyplot as plt"
   ]
  },
  {
   "cell_type": "markdown",
   "metadata": {},
   "source": [
    "## 5I"
   ]
  },
  {
   "cell_type": "code",
   "execution_count": 2,
   "metadata": {},
   "outputs": [],
   "source": [
    "def bin_inv(n,p):\n",
    "    ''' F(i)    = p(i) + F(i-1)\n",
    "        \n",
    "        p(0)    = (1-p)**n\n",
    "        p(i+1)  = p(i) * (n-i) * (i+1)\n",
    "    '''\n",
    "    c = p / (1-p)\n",
    "    prob = (1-p)**n\n",
    "    f, i = prob, 0\n",
    "    u = random()\n",
    "    while f <= u:\n",
    "        prob *= c * (n-i) / (i+1)\n",
    "        f += prob\n",
    "        i += 1 \n",
    "    return i"
   ]
  },
  {
   "cell_type": "markdown",
   "metadata": {},
   "source": [
    "## 5II"
   ]
  },
  {
   "cell_type": "code",
   "execution_count": 3,
   "metadata": {},
   "outputs": [],
   "source": [
    "def bin_sim(n,p):\n",
    "    '''  \n",
    "    '''\n",
    "    i = 0\n",
    "    for _ in range(n):\n",
    "        u = random()\n",
    "        if p >= u:\n",
    "            i += 1\n",
    "    return i"
   ]
  },
  {
   "cell_type": "markdown",
   "metadata": {},
   "source": [
    "## Auxiliares"
   ]
  },
  {
   "cell_type": "code",
   "execution_count": 12,
   "metadata": {},
   "outputs": [],
   "source": [
    "import time \n",
    "\n",
    "def get_probs(g, nsim, *args):\n",
    "    seed(1000)\n",
    "    acc = {}\n",
    "\n",
    "    start = time.perf_counter()\n",
    "    for _ in range(nsim):\n",
    "        r = g(*args)\n",
    "        acc[r] = 1 + acc.get(r, 0)\n",
    "\n",
    "    end = time.perf_counter()\n",
    "\n",
    "    perf = end - start\n",
    "    acc = { k:v/nsim for k, v in acc.items() }\n",
    "    acc = dict(sorted(acc.items()))\n",
    "    return acc, perf\n",
    "\n",
    "def plot_probs(vars, nsim):\n",
    "    i = -0.5\n",
    "    for n, g, v in vars:\n",
    "        print(75*'-')\n",
    "        print(n)\n",
    "\n",
    "        acc, perf = get_probs(g, nsim, *v)\n",
    "        \n",
    "        print(f'Got:\\t {acc}\\n' + \n",
    "              f'Perf:\\t {perf:.3}ms')\n",
    "        \n",
    "        x_axis = list(map(lambda x: x + i*0.5, acc.keys()))\n",
    "        y_axis = acc.values()\n",
    "        plt.bar(x_axis,y_axis, 0.5, label=n)\n",
    "        \n",
    "        i += 1\n",
    "\n",
    "def binom_probs(n,p):\n",
    "    py = []\n",
    "    prob = (1-p)**n\n",
    "    py.append(prob)\n",
    "    for j in range(n):\n",
    "        prob *= (n-j)/(j+1)\n",
    "        prob *= p/(1-p)\n",
    "        py.append(prob)\n",
    "    return py\n",
    "\n",
    "def plot_expected(probs):\n",
    "    exp_x = []\n",
    "    exp_y = []\n",
    "    for i in range(len(probs)):\n",
    "        for j in [-1,1]:\n",
    "            exp_x.append(i+0.5*j)\n",
    "            exp_y.append(probs[i])\n",
    "\n",
    "    plt.plot(exp_x, exp_y,color='red', label=\"Original\")\n",
    "    return exp_x, exp_y"
   ]
  },
  {
   "cell_type": "markdown",
   "metadata": {},
   "source": [
    "## Evaluacion"
   ]
  },
  {
   "cell_type": "code",
   "execution_count": 13,
   "metadata": {},
   "outputs": [
    {
     "name": "stdout",
     "output_type": "stream",
     "text": [
      "---------------------------------------------------------------------------\n",
      "Invertida\n",
      "Got:\t {0: 0.031, 1: 0.122, 2: 0.2283, 3: 0.2645, 4: 0.2052, 5: 0.1022, 6: 0.0362, 7: 0.0092, 8: 0.0014}\n",
      "Perf:\t 0.0127ms\n",
      "---------------------------------------------------------------------------\n",
      "Simulada \n",
      "Got:\t {0: 0.0267, 1: 0.1203, 2: 0.2435, 3: 0.2622, 4: 0.2007, 5: 0.1016, 6: 0.0353, 7: 0.0083, 8: 0.0014}\n",
      "Perf:\t 0.012ms\n"
     ]
    },
    {
     "data": {
      "image/png": "[encoded data removed]",
      "text/plain": [
       "<Figure size 640x480 with 1 Axes>"
      ]
     },
     "metadata": {},
     "output_type": "display_data"
    }
   ],
   "source": [
    "# Parametros\n",
    "N = 10\n",
    "P = 0.3\n",
    "\n",
    "EXPECTED = binom_probs(N,P)\n",
    "\n",
    "# Variables\n",
    "vars = [\n",
    "    ('Invertida',bin_inv ,[N,P]),\n",
    "    ('Simulada ',bin_sim ,[N,P])\n",
    "]\n",
    "\n",
    "plot_expected(EXPECTED)\n",
    "plot_probs(vars, 10_000)\n",
    "    \n",
    "plt.legend()\n",
    "plt.show()"
   ]
  }
 ],
 "metadata": {
  "kernelspec": {
   "display_name": "MyS-Practicos",
   "language": "python",
   "name": "python3"
  },
  "language_info": {
   "codemirror_mode": {
    "name": "ipython",
    "version": 3
   },
   "file_extension": ".py",
   "mimetype": "text/x-python",
   "name": "python",
   "nbconvert_exporter": "python",
   "pygments_lexer": "ipython3",
   "version": "3.12.3"
  }
 },
 "nbformat": 4,
 "nbformat_minor": 2
}

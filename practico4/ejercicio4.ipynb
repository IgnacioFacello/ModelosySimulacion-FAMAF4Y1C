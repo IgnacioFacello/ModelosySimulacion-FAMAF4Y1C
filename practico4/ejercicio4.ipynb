{
 "cells": [
  {
   "cell_type": "markdown",
   "metadata": {},
   "source": [
    "# Practico 4"
   ]
  },
  {
   "cell_type": "code",
   "execution_count": 1,
   "metadata": {},
   "outputs": [],
   "source": [
    "from random import random\n",
    "\n",
    "def var_rech(probs : list):\n",
    "    ''' implementacion usando el metodo de rechazo\n",
    "    '''\n",
    "    ret = None\n",
    "    while ret is None:\n",
    "        y = int(random() * 10) \n",
    "        valid = random() < probs[y] / max(probs)\n",
    "        ret = y + 1 if valid else None\n",
    "    return ret\n",
    "\n",
    "def var_tinv(probs : dict):\n",
    "    ''' Implementacion usando transformacion invertida \n",
    "    '''\n",
    "    u = random()\n",
    "    f = 0\n",
    "    for k, v in probs.items():\n",
    "        f += v\n",
    "        if u <= f:\n",
    "            return k\n",
    "\n",
    "def _gen_urna(probs):\n",
    "    res = []\n",
    "    for i in range(len(probs)):\n",
    "        res += [i+1]*int(probs[i]*100)\n",
    "    return res\n",
    "\n",
    "def var_urna(urna : list):\n",
    "    ''' Implementacion usando el metodo de la variable invertida\n",
    "    '''\n",
    "    u = int(random() * 100)\n",
    "    return urna[u]"
   ]
  },
  {
   "cell_type": "code",
   "execution_count": 6,
   "metadata": {},
   "outputs": [],
   "source": [
    "import matplotlib.pyplot as plt\n",
    "from random import seed\n",
    "from time import perf_counter\n",
    "\n",
    "def get_probs(g, nsim, *args):\n",
    "    seed(1811)\n",
    "    acc = {}\n",
    "\n",
    "    start = perf_counter()\n",
    "    for _ in range(nsim):\n",
    "        r = g(*args)\n",
    "        acc[r] = 1 + acc.get(r, 0)\n",
    "\n",
    "    end = perf_counter()\n",
    "\n",
    "    perf = end - start\n",
    "    acc = { k:v/nsim for k, v in acc.items() }\n",
    "    acc = dict(sorted(acc.items()))\n",
    "    return acc, perf\n",
    "\n",
    "def plot_probs(vars, nsim):\n",
    "    i = -1\n",
    "    for n, g, v in vars:\n",
    "        print(75*'-')\n",
    "        print(n)\n",
    "        \n",
    "        acc, perf = get_probs(g, nsim, v)\n",
    "        \n",
    "        print('Got:\\t ', acc)\n",
    "        print(f'Perf:\\t {perf:.5}ms')\n",
    "        \n",
    "        x_axis = list(map(lambda x: x + 0.3*i, acc.keys()))\n",
    "        y_axis = acc.values()\n",
    "        plt.bar(x_axis,y_axis, 0.3, label=n)\n",
    "        \n",
    "        i += 1\n",
    "\n",
    "def plot_expected(probs):\n",
    "    x_expected = []\n",
    "    y_expected = []\n",
    "    for i in range(len(probs)):\n",
    "        for j in [-1,1]:\n",
    "            x_expected.append(i+1+0.5*j)\n",
    "            y_expected.append(probs[i])\n",
    "    return x_expected, y_expected"
   ]
  },
  {
   "cell_type": "code",
   "execution_count": 7,
   "metadata": {},
   "outputs": [
    {
     "name": "stdout",
     "output_type": "stream",
     "text": [
      "---------------------------------------------------------------------------\n",
      "Rechazo   \n",
      "Got:\t  {1: 0.1153, 2: 0.1361, 3: 0.0846, 4: 0.0828, 5: 0.1206, 6: 0.0955, 7: 0.095, 8: 0.0768, 9: 0.1061, 10: 0.0872}\n",
      "Perf:\t 0.014323ms\n",
      "---------------------------------------------------------------------------\n",
      "Invertida \n",
      "Got:\t  {1: 0.1142, 2: 0.1413, 3: 0.0921, 4: 0.0755, 5: 0.1194, 6: 0.0917, 7: 0.0916, 8: 0.0707, 9: 0.1114, 10: 0.0921}\n",
      "Perf:\t 0.0083987ms\n",
      "---------------------------------------------------------------------------\n",
      "Urna      \n",
      "Got:\t  {1: 0.1099, 2: 0.1405, 3: 0.096, 4: 0.078, 5: 0.1177, 6: 0.097, 7: 0.0928, 8: 0.0748, 9: 0.1053, 10: 0.088}\n",
      "Perf:\t 0.0057892ms\n"
     ]
    },
    {
     "data": {
      "image/png": "[encoded data removed]",
      "text/plain": [
       "<Figure size 640x480 with 1 Axes>"
      ]
     },
     "metadata": {},
     "output_type": "display_data"
    }
   ],
   "source": [
    "P = [0.11, 0.14, 0.09, 0.08, 0.12, 0.10, 0.09, 0.07, 0.11, 0.09]\n",
    "p_idx = { k: v for k, v in zip(range(1,len(P)+1),P)}\n",
    "sort = sorted((p_idx.items()), key = lambda x: x[1], reverse=True)\n",
    "P_ORD = dict(sort)\n",
    "\n",
    "vars = [\n",
    "    ('Rechazo   ',var_rech, P), \n",
    "    ('Invertida ',var_tinv, P_ORD),\n",
    "    ('Urna      ',var_urna, _gen_urna(P)),\n",
    "    ]\n",
    "\n",
    "exp_x, exp_y = plot_expected(P)\n",
    "plt.plot(exp_x, exp_y,color='red', label=\"Original\")\n",
    "\n",
    "plot_probs(vars, 10_000)\n",
    "\n",
    "plt.legend()\n",
    "plt.show()"
   ]
  }
 ],
 "metadata": {
  "kernelspec": {
   "display_name": "MyS-Practicos",
   "language": "python",
   "name": "python3"
  },
  "language_info": {
   "codemirror_mode": {
    "name": "ipython",
    "version": 3
   },
   "file_extension": ".py",
   "mimetype": "text/x-python",
   "name": "python",
   "nbconvert_exporter": "python",
   "pygments_lexer": "ipython3",
   "version": "3.12.3"
  }
 },
 "nbformat": 4,
 "nbformat_minor": 2
}

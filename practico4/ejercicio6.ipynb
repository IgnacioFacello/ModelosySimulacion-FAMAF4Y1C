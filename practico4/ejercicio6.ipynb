{
 "cells": [
  {
   "cell_type": "markdown",
   "metadata": {},
   "source": [
    "# Ejercicio 6"
   ]
  },
  {
   "cell_type": "code",
   "execution_count": 1,
   "metadata": {},
   "outputs": [],
   "source": [
    "from random import (random, seed)"
   ]
  },
  {
   "cell_type": "markdown",
   "metadata": {},
   "source": [
    "## 6I"
   ]
  },
  {
   "cell_type": "code",
   "execution_count": 2,
   "metadata": {},
   "outputs": [],
   "source": [
    "def var_tinv(probs : dict):\n",
    "    ''' Implementacion usando transformacion invertida \\n\n",
    "        Optimizamos el numero de busquedas ordenando las probabilidades individuales de mayor a menor\n",
    "    '''\n",
    "    u = random()\n",
    "    f = 0\n",
    "    for k, v in probs.items():\n",
    "        f += v\n",
    "        if u <= f:\n",
    "            return k"
   ]
  },
  {
   "cell_type": "markdown",
   "metadata": {},
   "source": [
    "## 6II"
   ]
  },
  {
   "cell_type": "code",
   "execution_count": 3,
   "metadata": {},
   "outputs": [],
   "source": [
    "def binom_probs(n,p):\n",
    "    py = []\n",
    "    prob = (1-p)**n\n",
    "    py.append(prob)\n",
    "    for j in range(4):\n",
    "        prob *= (n-j)/(j+1)\n",
    "        prob *= p/(1-p)\n",
    "        py.append(prob)\n",
    "    return py\n",
    "\n",
    "def bin_inv(n,p):\n",
    "    c = p / (1-p)\n",
    "    prob = (1-p)**n\n",
    "    f, i = prob, 0\n",
    "    u = random()\n",
    "    while f <= u:\n",
    "        prob *= c * (n-i) / (i+1)\n",
    "        f += prob\n",
    "        i += 1 \n",
    "    return i\n",
    "\n",
    "def var_rech(px : list):\n",
    "    ''' implementacion usando el metodo de rechazo\n",
    "    '''\n",
    "    ret = None\n",
    "    py = binom_probs(4,0.45)\n",
    "    c = max(px) / min(py)\n",
    "    while ret is None:\n",
    "        y = bin_inv(4,0.45)\n",
    "        valid = random() < px[y] / (c * py[y])\n",
    "        ret = y if valid else None\n",
    "    return ret"
   ]
  },
  {
   "cell_type": "code",
   "execution_count": 4,
   "metadata": {},
   "outputs": [],
   "source": [
    "import time \n",
    "import matplotlib.pyplot as plt\n",
    "import numpy as np\n",
    "\n",
    "def get_probs(g, nsim, *args):\n",
    "    seed(1000)\n",
    "    acc = {}\n",
    "\n",
    "    start = time.perf_counter()\n",
    "    for _ in range(nsim):\n",
    "        r = g(*args)\n",
    "        acc[r] = 1 + acc.get(r, 0)\n",
    "\n",
    "    end = time.perf_counter()\n",
    "\n",
    "    perf = end - start\n",
    "    acc = { k:v/nsim for k, v in acc.items() }\n",
    "    acc = dict(sorted(acc.items()))\n",
    "    return acc, perf\n",
    "\n",
    "def plot_probs(vars, nsim):\n",
    "    i = -0.5\n",
    "    for n, g, v in vars:\n",
    "        print(75*'-')\n",
    "        print(n)\n",
    "        \n",
    "        acc, perf = get_probs(g, nsim, *v)\n",
    "        \n",
    "        print(f'Got:\\t {acc}\\n' + \n",
    "            f'Perf:\\t {perf:.3}ms'\n",
    "            )\n",
    "        \n",
    "        x_axis = list(map(lambda x: x + i*0.5, acc.keys()))\n",
    "        y_axis = acc.values()\n",
    "        plt.bar(x_axis,y_axis, 0.5, label=n)\n",
    "        \n",
    "        i += 1\n",
    "\n",
    "def plot_expected(probs):\n",
    "    x_expected = []\n",
    "    y_expected = []\n",
    "    for i in range(len(probs)):\n",
    "        for j in [-1,1]:\n",
    "            x_expected.append(i+0.5*j)\n",
    "            y_expected.append(probs[i])\n",
    "            \n",
    "    plt.plot(x_expected, y_expected, color='red', label='Expected')\n",
    "    return x_expected, y_expected"
   ]
  },
  {
   "cell_type": "code",
   "execution_count": 5,
   "metadata": {},
   "outputs": [
    {
     "name": "stdout",
     "output_type": "stream",
     "text": [
      "---------------------------------------------------------------------------\n",
      "Invertida\n",
      "Got:\t {0: 0.151, 1: 0.2004, 2: 0.0986, 3: 0.351, 4: 0.199}\n",
      "Perf:\t 0.00653ms\n",
      "---------------------------------------------------------------------------\n",
      "Rechazo  \n",
      "Got:\t {0: 0.1502, 1: 0.1952, 2: 0.0952, 3: 0.348, 4: 0.2114}\n",
      "Perf:\t 0.803ms\n"
     ]
    },
    {
     "data": {
      "image/png": "[encoded data removed]",
      "text/plain": [
       "<Figure size 640x480 with 1 Axes>"
      ]
     },
     "metadata": {},
     "output_type": "display_data"
    }
   ],
   "source": [
    "P = [0.15, 0.20, 0.10, 0.35, 0.20]\n",
    "p_idx = { k: v for k, v in zip(range(len(P)),P)} # Pairs (value, prob)\n",
    "sort = sorted((p_idx.items()), key = lambda x: x[1], reverse=True) # Sort them by probability\n",
    "P_ORD = dict(sort)\n",
    "\n",
    "vars = [\n",
    "    ('Invertida', var_tinv, [P_ORD]),\n",
    "    ('Rechazo  ', var_rech, [P_ORD])\n",
    "]\n",
    "\n",
    "plot_probs(vars, 10_000)\n",
    "\n",
    "plot_expected(P)\n",
    "\n",
    "plt.grid(linestyle = '--', linewidth = 0.5)\n",
    "plt.legend()\n",
    "plt.show()"
   ]
  }
 ],
 "metadata": {
  "kernelspec": {
   "display_name": "MyS-Practicos",
   "language": "python",
   "name": "python3"
  },
  "language_info": {
   "codemirror_mode": {
    "name": "ipython",
    "version": 3
   },
   "file_extension": ".py",
   "mimetype": "text/x-python",
   "name": "python",
   "nbconvert_exporter": "python",
   "pygments_lexer": "ipython3",
   "version": "3.12.3"
  }
 },
 "nbformat": 4,
 "nbformat_minor": 2
}

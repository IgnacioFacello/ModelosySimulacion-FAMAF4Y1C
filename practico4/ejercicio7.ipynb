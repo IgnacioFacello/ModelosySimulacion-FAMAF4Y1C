{
 "cells": [
  {
   "cell_type": "markdown",
   "metadata": {},
   "source": [
    "# Ejercicio 7"
   ]
  },
  {
   "cell_type": "code",
   "execution_count": 114,
   "metadata": {},
   "outputs": [],
   "source": [
    "import numpy as np\n",
    "\n",
    "def poisson_rec(lam, i, p_i):\n",
    "    return p_i * lam / i if i > 0 else np.exp(-lam)\n",
    "\n",
    "def poisson(lam, i):\n",
    "    last = 0\n",
    "    acc = []\n",
    "    for k in range(i+1):\n",
    "        last = poisson_rec(lam, k, last)\n",
    "        acc.append(last)\n",
    "    return acc\n"
   ]
  },
  {
   "cell_type": "code",
   "execution_count": 115,
   "metadata": {},
   "outputs": [
    {
     "data": {
      "image/png": "[encoded data removed]",
      "text/plain": [
       "<Figure size 432x288 with 1 Axes>"
      ]
     },
     "metadata": {
      "needs_background": "light"
     },
     "output_type": "display_data"
    }
   ],
   "source": [
    "import matplotlib.pyplot as plt\n",
    "\n",
    "def acumulada(probs):\n",
    "    return [ sum(probs[:i]) for i in range(len(probs))]\n",
    "\n",
    "lam = 10\n",
    "n = 20\n",
    "probs = poisson(lam, n)\n",
    "\n",
    "plt.bar(np.arange(n+1), acumulada(probs), alpha=0.4)\n",
    "plt.bar(np.arange(n+1), probs)\n",
    "plt.show()"
   ]
  },
  {
   "cell_type": "markdown",
   "metadata": {},
   "source": [
    "## Variables"
   ]
  },
  {
   "cell_type": "code",
   "execution_count": 116,
   "metadata": {},
   "outputs": [],
   "source": [
    "import random as rnd \n",
    "\n",
    "def poisson_tinv(lam):\n",
    "    u = rnd.random()\n",
    "    i, p = 0, np.exp(-lam)\n",
    "    f = p\n",
    "    while u >= f:\n",
    "        i += 1\n",
    "        p *= lam / i\n",
    "        f += p\n",
    "    return i\n",
    "\n",
    "def poisson_mk2(lam):\n",
    "    p = np.exp(-lam)\n",
    "    f = p\n",
    "    for j in range(1, int(lam) + 1):\n",
    "        p *= lam / j\n",
    "        f += p\n",
    "    u = rnd.random()\n",
    "    if u >= f:\n",
    "        j = int(lam) + 1\n",
    "        while u >= f:\n",
    "            p *= lam/ j\n",
    "            f += p\n",
    "            j += 1\n",
    "        return j - 1\n",
    "    else:\n",
    "        j = int(lam)\n",
    "        while u < f:\n",
    "            f -= p\n",
    "            p *= j / lam\n",
    "            j -= 1\n",
    "        return j + 1\n"
   ]
  },
  {
   "cell_type": "markdown",
   "metadata": {},
   "source": [
    "## Auxiliares"
   ]
  },
  {
   "cell_type": "code",
   "execution_count": 117,
   "metadata": {},
   "outputs": [],
   "source": [
    "import time \n",
    "import matplotlib.pyplot as plt\n",
    "import numpy as np\n",
    "\n",
    "def get_probs(g, nsim, *args):\n",
    "    rnd.seed(1000)\n",
    "    acc = {}\n",
    "\n",
    "    start = time.perf_counter()\n",
    "    for _ in range(nsim):\n",
    "        r = g(*args)\n",
    "        acc[r] = 1 + acc.get(r, 0)\n",
    "\n",
    "    end = time.perf_counter()\n",
    "\n",
    "    perf = end - start\n",
    "    acc = { k:v/nsim for k, v in acc.items() }\n",
    "    acc = dict(sorted(acc.items()))\n",
    "    return acc, perf\n",
    "\n",
    "def plot_probs(vars, nsim):\n",
    "    i = -0.5\n",
    "    for n, g, v in vars:\n",
    "        print(75*'-')\n",
    "        print(n)\n",
    "        \n",
    "        acc, perf = get_probs(g, nsim, *v)\n",
    "        \n",
    "        print(f'Got:\\t {acc}\\n' + \n",
    "            f'Perf:\\t {perf:.3}ms'\n",
    "            )\n",
    "        \n",
    "        x_axis = list(map(lambda x: x + i*0.5, acc.keys()))\n",
    "        y_axis = acc.values()\n",
    "        plt.bar(x_axis,y_axis, 0.5, label=n)\n",
    "        \n",
    "        i += 1\n",
    "\n",
    "def plot_expected(probs):\n",
    "    x_expected = []\n",
    "    y_expected = []\n",
    "    for i in range(len(probs)):\n",
    "        for j in [-1,1]:\n",
    "            x_expected.append(i+0.5*j)\n",
    "            y_expected.append(probs[i])\n",
    "            \n",
    "    plt.plot(x_expected, y_expected, color='red', label='Expected')\n",
    "    return x_expected, y_expected"
   ]
  },
  {
   "cell_type": "markdown",
   "metadata": {},
   "source": [
    "## Evaluacion"
   ]
  },
  {
   "cell_type": "code",
   "execution_count": 120,
   "metadata": {},
   "outputs": [
    {
     "name": "stdout",
     "output_type": "stream",
     "text": [
      "---------------------------------------------------------------------------\n",
      "Invertida\n",
      "Got:\t {1: 0.0002, 2: 0.0027, 3: 0.0081, 4: 0.0209, 5: 0.0396, 6: 0.0641, 7: 0.0877, 8: 0.1117, 9: 0.1231, 10: 0.1256, 11: 0.1097, 12: 0.1026, 13: 0.0699, 14: 0.052, 15: 0.0345, 16: 0.0193, 17: 0.0139, 18: 0.007, 19: 0.0041, 20: 0.0019, 21: 0.0009, 22: 0.0003, 23: 0.0002}\n",
      "Perf:\t 0.0427ms\n",
      "---------------------------------------------------------------------------\n",
      "Mejorada \n",
      "Got:\t {1: 0.0002, 2: 0.0027, 3: 0.0081, 4: 0.0209, 5: 0.0396, 6: 0.0641, 7: 0.0877, 8: 0.1117, 9: 0.1231, 10: 0.1256, 11: 0.1097, 12: 0.1026, 13: 0.0699, 14: 0.052, 15: 0.0345, 16: 0.0193, 17: 0.0139, 18: 0.007, 19: 0.0041, 20: 0.0019, 21: 0.0009, 22: 0.0003, 23: 0.0002}\n",
      "Perf:\t 0.0406ms\n"
     ]
    },
    {
     "data": {
      "image/png": "[encoded data removed]",
      "text/plain": [
       "<Figure size 432x288 with 1 Axes>"
      ]
     },
     "metadata": {
      "needs_background": "light"
     },
     "output_type": "display_data"
    }
   ],
   "source": [
    "vars = [\n",
    "    ('Invertida', poisson_tinv, [10]),\n",
    "    ('Mejorada ', poisson_mk2, [10])\n",
    "]\n",
    "\n",
    "plot_probs(vars, 10_000)\n",
    "\n",
    "plot_expected(poisson(10,20))\n",
    "\n",
    "plt.grid(linestyle = '--', linewidth = 0.5)\n",
    "plt.legend()\n",
    "plt.show()"
   ]
  },
  {
   "cell_type": "markdown",
   "metadata": {},
   "source": [
    "## Resolucion"
   ]
  },
  {
   "cell_type": "code",
   "execution_count": null,
   "metadata": {},
   "outputs": [],
   "source": []
  }
 ],
 "metadata": {
  "kernelspec": {
   "display_name": "Python 3",
   "language": "python",
   "name": "python3"
  },
  "language_info": {
   "codemirror_mode": {
    "name": "ipython",
    "version": 3
   },
   "file_extension": ".py",
   "mimetype": "text/x-python",
   "name": "python",
   "nbconvert_exporter": "python",
   "pygments_lexer": "ipython3",
   "version": "3.10.12"
  }
 },
 "nbformat": 4,
 "nbformat_minor": 2
}

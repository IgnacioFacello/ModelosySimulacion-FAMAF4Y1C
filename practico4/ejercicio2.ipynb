{
 "cells": [
  {
   "cell_type": "markdown",
   "metadata": {},
   "source": [
    "# Ejercicio 2"
   ]
  },
  {
   "cell_type": "code",
   "execution_count": 21,
   "metadata": {},
   "outputs": [],
   "source": [
    "from random import random, seed\n",
    "from time import perf_counter\n",
    "import numpy as np\n",
    "import matplotlib.pyplot as plt"
   ]
  },
  {
   "cell_type": "markdown",
   "metadata": {},
   "source": [
    "## Ejercicio 2a"
   ]
  },
  {
   "cell_type": "code",
   "execution_count": 22,
   "metadata": {},
   "outputs": [],
   "source": [
    "def dos_a(n, g):\n",
    "    ''' Valor real\n",
    "    '''\n",
    "    acc = 0\n",
    "    for k in range(n):\n",
    "        acc += g(k+1)\n",
    "    return acc"
   ]
  },
  {
   "cell_type": "markdown",
   "metadata": {},
   "source": [
    "## Ejercicio 2b"
   ]
  },
  {
   "cell_type": "markdown",
   "metadata": {},
   "source": [
    "Con $N=10.000$, queremos aproximar\n",
    "$$S = \\sum^N_{k=1}e^{k/ N}$$\n",
    "\n",
    "Tomamos $g(i) = exp(i/N)$ y queremos estimar $E[g(X)]$ con $X\\sim U(1,10000)$\n",
    "\n",
    "$$\\begin{align}\n",
    "S &= N * {1\\over N} * \\sum^N_{k=1}e^{k/ N} \\\\\n",
    "S &= N * {1\\over N} \\sum^N_{k=1}g(x) \\\\\n",
    "S &\\simeq N * E[g(X)]\n",
    "\\end{align}\n",
    "$$"
   ]
  },
  {
   "cell_type": "code",
   "execution_count": 23,
   "metadata": {},
   "outputs": [],
   "source": [
    "def dos_b(nsim, g):\n",
    "    ''' Estimacion usando montecarlo \n",
    "    '''\n",
    "    acc = 0\n",
    "    for _ in range(nsim):\n",
    "        u = int(random()*nsim) + 1 # Uniforme [1,10000]\n",
    "        acc += g(u)\n",
    "    return acc"
   ]
  },
  {
   "cell_type": "markdown",
   "metadata": {},
   "source": [
    "## Ejercicio 2c"
   ]
  },
  {
   "cell_type": "code",
   "execution_count": 24,
   "metadata": {},
   "outputs": [],
   "source": [
    "def dos_c(nsim, g):\n",
    "    ''' Estimacion usando los 100 primeros terminos\n",
    "    '''\n",
    "    acc = 0\n",
    "    for i in range(nsim):\n",
    "        acc += g(i+1)\n",
    "    return acc"
   ]
  },
  {
   "cell_type": "markdown",
   "metadata": {},
   "source": [
    "## Funciones Auxiliares"
   ]
  },
  {
   "cell_type": "code",
   "execution_count": 25,
   "metadata": {},
   "outputs": [],
   "source": [
    "def get_probs(g, *args):\n",
    "    seed(1811)\n",
    "    start = perf_counter()\n",
    "    \n",
    "    r = g(*args) if args else g()\n",
    "\n",
    "    end = perf_counter()\n",
    "    perf = end - start\n",
    "    return r, perf\n",
    "\n",
    "def plot_probs(funs):\n",
    "    for n, g, v in funs:\n",
    "        print(75*'-')\n",
    "        print(n)\n",
    "        acc, perf = get_probs(g, *v)\n",
    "        print(f'Got:\\t {acc}\\n' +\n",
    "              f'Perf:\\t {perf:.3}ms'\n",
    "            )"
   ]
  },
  {
   "cell_type": "markdown",
   "metadata": {},
   "source": [
    "## Evaluacion"
   ]
  },
  {
   "cell_type": "code",
   "execution_count": 26,
   "metadata": {},
   "outputs": [
    {
     "name": "stdout",
     "output_type": "stream",
     "text": [
      "---------------------------------------------------------------------------\n",
      "Real\n",
      "Got:\t 17183.677439823703\n",
      "Perf:\t 0.0212ms\n",
      "---------------------------------------------------------------------------\n",
      "Sorteo\n",
      "Got:\t 100.53857304815061\n",
      "Perf:\t 0.000214ms\n",
      "---------------------------------------------------------------------------\n",
      "100 terminos\n",
      "Got:\t 100.50669600897406\n",
      "Perf:\t 0.000184ms\n"
     ]
    }
   ],
   "source": [
    "N = 10**4\n",
    "g = lambda x: np.exp(x/N)\n",
    "\n",
    "vars_to_evaluate = [\n",
    "    ('Real', dos_a, [N, g]),\n",
    "    ('Sorteo', dos_b, [100, g]),\n",
    "    ('100 terminos', dos_c, [100, g]),\n",
    "]\n",
    "\n",
    "plot_probs(vars_to_evaluate)"
   ]
  }
 ],
 "metadata": {
  "kernelspec": {
   "display_name": "MyS-Practicos",
   "language": "python",
   "name": "python3"
  },
  "language_info": {
   "codemirror_mode": {
    "name": "ipython",
    "version": 3
   },
   "file_extension": ".py",
   "mimetype": "text/x-python",
   "name": "python",
   "nbconvert_exporter": "python",
   "pygments_lexer": "ipython3",
   "version": "3.12.3"
  }
 },
 "nbformat": 4,
 "nbformat_minor": 2
}

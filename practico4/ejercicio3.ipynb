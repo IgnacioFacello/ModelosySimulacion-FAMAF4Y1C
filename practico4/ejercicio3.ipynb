{
 "cells": [
  {
   "cell_type": "markdown",
   "metadata": {},
   "source": [
    "# Ejercicio 3"
   ]
  },
  {
   "cell_type": "code",
   "execution_count": 6,
   "metadata": {},
   "outputs": [],
   "source": [
    "import numpy as np\n",
    "import random as rnd\n",
    "\n",
    "def dice_d6():\n",
    "    return int(rnd.random() * 6) + 1"
   ]
  },
  {
   "cell_type": "code",
   "execution_count": 7,
   "metadata": {},
   "outputs": [
    {
     "name": "stdout",
     "output_type": "stream",
     "text": [
      " nsim  |  V Medio | Desviacion \n",
      "   100 |    56.16 | 31.5486 \n",
      "  1000 |   60.664 | 33.92314 \n",
      " 10000 |  60.7926 | 35.23579 \n",
      "100000 | 60.97358 | 35.91578 \n"
     ]
    }
   ],
   "source": [
    "rnd.seed(1234)\n",
    "\n",
    "MAX_SIM = 10**6\n",
    "\n",
    "def inner():\n",
    "    res = {}\n",
    "    acc = 0\n",
    "    while len(res) < 11 and acc < MAX_SIM:\n",
    "        acc += 1 \n",
    "        r = dice_d6() +  dice_d6()\n",
    "        res[r] = 1 + res.get(r, 0)\n",
    "    return acc\n",
    "\n",
    "def outer():\n",
    "    print(' nsim  |  V Medio | Desviacion ')\n",
    "    for e in [2,3,4,5]:\n",
    "        nsim = 10**e\n",
    "        acc = []\n",
    "        for _  in range(nsim):\n",
    "            acc.append(inner())\n",
    "        print(f'{nsim:6} | {np.mean(acc):8.7} | {np.std(acc):7.7} ')\n",
    "\n",
    "outer()"
   ]
  },
  {
   "cell_type": "code",
   "execution_count": 8,
   "metadata": {},
   "outputs": [
    {
     "name": "stdout",
     "output_type": "stream",
     "text": [
      " nsim  |  P(N >= 15) | P(N <= 9) \n",
      "   100 |        0.99 |      0.0\n",
      "  1000 |         1.0 |      0.0\n",
      " 10000 |       0.999 |      0.0\n",
      "100000 |       0.999 |      0.0\n"
     ]
    }
   ],
   "source": [
    "# Ejercicio 3bii\n",
    "rnd.seed(16661)\n",
    "def outer():\n",
    "    print(' nsim  |  P(N >= 15) | P(N <= 9) ')\n",
    "    for e in [2,3,4,5]:\n",
    "        nsim = 10**e\n",
    "        acc15 = 0\n",
    "        acc9 = 0\n",
    "        for _  in range(nsim):\n",
    "            r = inner()\n",
    "            acc15 += 1 if r >= 15 else 0\n",
    "            acc9  += 1 if r <= 9  else 0\n",
    "        print(f'{nsim:6} | {acc15/nsim:11.3} | {acc9/nsim:8.3}')\n",
    "\n",
    "outer()"
   ]
  }
 ],
 "metadata": {
  "kernelspec": {
   "display_name": "MyS-Practicos",
   "language": "python",
   "name": "python3"
  },
  "language_info": {
   "codemirror_mode": {
    "name": "ipython",
    "version": 3
   },
   "file_extension": ".py",
   "mimetype": "text/x-python",
   "name": "python",
   "nbconvert_exporter": "python",
   "pygments_lexer": "ipython3",
   "version": "3.12.3"
  }
 },
 "nbformat": 4,
 "nbformat_minor": 2
}

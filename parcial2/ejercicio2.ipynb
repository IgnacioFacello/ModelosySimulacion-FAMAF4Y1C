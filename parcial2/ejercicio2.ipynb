{
 "cells": [
  {
   "cell_type": "code",
   "execution_count": null,
   "metadata": {},
   "outputs": [],
   "source": [
    "from random import random, seed\n",
    "import numpy as np\n",
    "import matplotlib.pyplot as plt\n",
    "import time\n",
    "\n",
    "# Auxiliares\n",
    "def get_probs(g, nsim, *args):\n",
    "    seed(1000)\n",
    "    acc = []\n",
    "\n",
    "    start = time.perf_counter()\n",
    "    for _ in range(nsim):\n",
    "        r = g(*args)\n",
    "        acc.append(r)\n",
    "\n",
    "    end = time.perf_counter()\n",
    "\n",
    "    perf = end - start\n",
    "    return acc, perf\n",
    "\n",
    "def plot_vars(f, v, nsim):\n",
    "    xs = np.arange(-0.5,2.5,0.1)\n",
    "    ys = [ f(x) for x in xs ]\n",
    "    plt.plot(xs,ys, label='Funcion Probabilidad')\n",
    "\n",
    "    acc, perf = get_probs(v, nsim)\n",
    "\n",
    "    print(50*'-')\n",
    "    print('Transformacion Invertida')\n",
    "    print(f'Perf: {perf:.5}ms')\n",
    "\n",
    "    ys = []\n",
    "    for i in xs:\n",
    "        f_le = [ 1 if x <= i else 0 for x in acc ]\n",
    "        v = sum(f_le) / nsim\n",
    "        ys.append(v)\n",
    "\n",
    "    plt.plot(xs,ys, label='Transformacion Invertida')\n",
    "    plt.grid(linestyle = '--')\n",
    "    plt.legend()"
   ]
  },
  {
   "cell_type": "markdown",
   "metadata": {},
   "source": [
    "# Funciones"
   ]
  },
  {
   "cell_type": "code",
   "execution_count": null,
   "metadata": {},
   "outputs": [],
   "source": [
    "def fun_prob(x):\n",
    "    if x < 0:\n",
    "        return 0\n",
    "    elif 0 <= x < 1:\n",
    "        return 2/3 * x**(3/2)\n",
    "    elif 1 <= x < 2:\n",
    "        return 1/3 * (x+1)\n",
    "    else:\n",
    "        return 1\n",
    "    \n",
    "def inv_prob(u):\n",
    "    if u <= 2/3:\n",
    "        return (3/2*u)**(2/3)\n",
    "    else:\n",
    "        return 3*u-1"
   ]
  },
  {
   "cell_type": "markdown",
   "metadata": {},
   "source": [
    "# Variables"
   ]
  },
  {
   "cell_type": "code",
   "execution_count": null,
   "metadata": {},
   "outputs": [],
   "source": [
    "def tinv_x():\n",
    "    u = random()\n",
    "    return inv_prob(u)"
   ]
  },
  {
   "cell_type": "markdown",
   "metadata": {},
   "source": [
    "# Comparacion"
   ]
  },
  {
   "cell_type": "code",
   "execution_count": null,
   "metadata": {},
   "outputs": [],
   "source": [
    "plot_vars(fun_prob, tinv_x, 10_000)"
   ]
  },
  {
   "cell_type": "markdown",
   "metadata": {},
   "source": [
    "## Inciso A: Evaluacion"
   ]
  },
  {
   "cell_type": "code",
   "execution_count": null,
   "metadata": {},
   "outputs": [],
   "source": [
    "us = [0.2, 0.5, 0.8]\n",
    "rs = [inv_prob(u) for u in us]\n",
    "\n",
    "for i,v in enumerate(rs):\n",
    "    print(f'F^-1({us[i]}) = {v}')"
   ]
  },
  {
   "cell_type": "markdown",
   "metadata": {},
   "source": [
    "## Inciso B: Aproximacion"
   ]
  },
  {
   "cell_type": "code",
   "execution_count": null,
   "metadata": {},
   "outputs": [],
   "source": [
    "acc, perf = get_probs(tinv_x, 10_000)\n",
    "gt4 = [ 1 if u > 4 else 0 for u in acc]\n",
    "print(f'P(x > 4) = {sum(gt4)/len(gt4)}')"
   ]
  }
 ],
 "metadata": {
  "kernelspec": {
   "display_name": "MyS-Practicos",
   "language": "python",
   "name": "python3"
  },
  "language_info": {
   "codemirror_mode": {
    "name": "ipython",
    "version": 3
   },
   "file_extension": ".py",
   "mimetype": "text/x-python",
   "name": "python",
   "nbconvert_exporter": "python",
   "pygments_lexer": "ipython3",
   "version": "3.12.3"
  }
 },
 "nbformat": 4,
 "nbformat_minor": 2
}

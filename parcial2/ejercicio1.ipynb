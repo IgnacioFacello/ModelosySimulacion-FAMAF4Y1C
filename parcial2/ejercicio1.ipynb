{
 "cells": [
  {
   "cell_type": "code",
   "execution_count": null,
   "metadata": {},
   "outputs": [],
   "source": [
    "from random import random, seed\n",
    "import matplotlib.pyplot as plt\n",
    "import time\n",
    "\n",
    "def get_probs(g, nsim, *args):\n",
    "    seed(1000)\n",
    "    acc = {}\n",
    "\n",
    "    start = time.perf_counter()\n",
    "    for _ in range(nsim):\n",
    "        r = g(*args)\n",
    "        acc[r] = 1 + acc.get(r, 0)\n",
    "\n",
    "    end = time.perf_counter()\n",
    "\n",
    "    perf = end - start\n",
    "    acc = { k:v/nsim for k, v in acc.items() }\n",
    "    acc = dict(sorted(acc.items()))\n",
    "    return acc, perf"
   ]
  },
  {
   "cell_type": "markdown",
   "metadata": {},
   "source": [
    "# Simulamos UrnaX para comprobar resultados"
   ]
  },
  {
   "cell_type": "code",
   "execution_count": null,
   "metadata": {},
   "outputs": [],
   "source": [
    "A = [0,1,1,2,2,2,3,3,3]\n",
    "B = [0,0,0,1,1,2,2,2,2,2]\n",
    "\n",
    "def UrnaX():\n",
    "    U = random()\n",
    "    if U < 0.9:\n",
    "        return A[int(random() * 9)]\n",
    "    else:\n",
    "        return B[int(random() * 10)]"
   ]
  },
  {
   "cell_type": "code",
   "execution_count": null,
   "metadata": {},
   "outputs": [],
   "source": [
    "acc, perf = get_probs(UrnaX, 10_000)\n",
    "xs = list(acc.keys())\n",
    "ys = list(acc.values())\n",
    "\n",
    "print(acc)\n",
    "plt.bar(xs,ys)"
   ]
  },
  {
   "cell_type": "markdown",
   "metadata": {},
   "source": [
    "## Probabilidades esperadas"
   ]
  },
  {
   "cell_type": "code",
   "execution_count": null,
   "metadata": {},
   "outputs": [],
   "source": [
    "PA = [ x/9 for x in [1, 2, 3, 3] ]\n",
    "PB = [ x/10 for x in [3, 2, 5, 0]]\n",
    "P = [ 0.9*x + 0.1*y for x,y in zip(PA,PB)]\n",
    "P"
   ]
  },
  {
   "cell_type": "markdown",
   "metadata": {},
   "source": [
    "# Inciso B: Simulacion por Aceptacion y Rechazo"
   ]
  },
  {
   "cell_type": "code",
   "execution_count": null,
   "metadata": {},
   "outputs": [],
   "source": [
    "def algo_x(p):\n",
    "    while True:\n",
    "        u = random()\n",
    "        v = int(random()*4)\n",
    "        if u < p[v] / (1.4 / 4):\n",
    "            return v"
   ]
  },
  {
   "cell_type": "markdown",
   "metadata": {},
   "source": [
    "# Comparacion de metodos"
   ]
  },
  {
   "cell_type": "code",
   "execution_count": null,
   "metadata": {},
   "outputs": [],
   "source": [
    "nsim = 10_000\n",
    "# Por Urna\n",
    "acc, perf = get_probs(UrnaX, nsim)\n",
    "xs = [ x for x in acc.keys()]\n",
    "ys = [ y for y in acc.values() ]\n",
    "\n",
    "print(f'Performance: {perf:.5}ms')\n",
    "print(f'Distribucion: {acc}')\n",
    "plt.bar(xs,ys, width=0.5, label='UrnaX')\n",
    "\n",
    "# Por AyR\n",
    "acc, perf = get_probs(algo_x, nsim, P)\n",
    "xs = [ x-0.5 for x in acc.keys()]\n",
    "ys = [ y for y in acc.values() ]\n",
    "\n",
    "print(f'Performance: {perf:.5}ms')\n",
    "print(f'Distribucion: {acc}')\n",
    "plt.bar(xs,ys, width=0.5, label='AyR')\n",
    "\n",
    "plt.legend()\n",
    "plt.show()"
   ]
  }
 ],
 "metadata": {
  "kernelspec": {
   "display_name": "MyS-Practicos",
   "language": "python",
   "name": "python3"
  },
  "language_info": {
   "codemirror_mode": {
    "name": "ipython",
    "version": 3
   },
   "file_extension": ".py",
   "mimetype": "text/x-python",
   "name": "python",
   "nbconvert_exporter": "python",
   "pygments_lexer": "ipython3",
   "version": "3.12.3"
  }
 },
 "nbformat": 4,
 "nbformat_minor": 2
}

{
 "cells": [
  {
   "cell_type": "code",
   "execution_count": 11,
   "metadata": {},
   "outputs": [],
   "source": [
    "from random import random, seed\n",
    "import numpy as np\n",
    "import matplotlib.pyplot as plt"
   ]
  },
  {
   "cell_type": "markdown",
   "metadata": {},
   "source": [
    "# Ejercicio 1"
   ]
  },
  {
   "cell_type": "code",
   "execution_count": 12,
   "metadata": {},
   "outputs": [],
   "source": [
    "def algo_x(p):\n",
    "    while True:\n",
    "        u = random()\n",
    "        v = int(random()*4)\n",
    "        if u < p[v] / (1.4 / 4):\n",
    "            return v"
   ]
  },
  {
   "cell_type": "markdown",
   "metadata": {},
   "source": [
    "# Ejercicio 2"
   ]
  },
  {
   "cell_type": "code",
   "execution_count": 13,
   "metadata": {},
   "outputs": [],
   "source": [
    "import time\n",
    "\n",
    "def get_probs(g, nsim, *args):\n",
    "    seed(1000)\n",
    "    acc = []\n",
    "\n",
    "    start = time.perf_counter()\n",
    "    for _ in range(nsim):\n",
    "        r = g(*args)\n",
    "        acc.append(r)\n",
    "\n",
    "    end = time.perf_counter()\n",
    "\n",
    "    perf = end - start\n",
    "    return acc, perf"
   ]
  },
  {
   "cell_type": "code",
   "execution_count": 14,
   "metadata": {},
   "outputs": [],
   "source": [
    "def inv_prob(u):\n",
    "    if u <= 2/3:\n",
    "        return (3/2*u)**(2/3)\n",
    "    else:\n",
    "        return 3*u-1\n",
    "    \n",
    "def tinv_x():\n",
    "    u = random()\n",
    "    return inv_prob(u)"
   ]
  },
  {
   "cell_type": "code",
   "execution_count": 15,
   "metadata": {},
   "outputs": [
    {
     "name": "stdout",
     "output_type": "stream",
     "text": [
      "F^-1(0.2) = 0.44814047465571655\n",
      "F^-1(0.5) = 0.8254818122236567\n",
      "F^-1(0.8) = 1.4000000000000004\n"
     ]
    }
   ],
   "source": [
    "us = [0.2, 0.5, 0.8]\n",
    "rs = [inv_prob(u) for u in us]\n",
    "\n",
    "for i,v in enumerate(rs):\n",
    "    print(f'F^-1({us[i]}) = {v}')"
   ]
  },
  {
   "cell_type": "code",
   "execution_count": 16,
   "metadata": {},
   "outputs": [
    {
     "name": "stdout",
     "output_type": "stream",
     "text": [
      "P(x > 4) = 0.0\n"
     ]
    }
   ],
   "source": [
    "acc, perf = get_probs(tinv_x, 10_000)\n",
    "gt4 = [ 1 if u > 4 else 0 for u in acc]\n",
    "print(f'P(x > 4) = {sum(gt4)/len(gt4)}')"
   ]
  },
  {
   "cell_type": "markdown",
   "metadata": {},
   "source": [
    "# Ejercicio 3"
   ]
  },
  {
   "cell_type": "code",
   "execution_count": 17,
   "metadata": {},
   "outputs": [],
   "source": [
    "def get_probs(g, nsim, *args):\n",
    "    acc = []\n",
    "\n",
    "    start = time.perf_counter()\n",
    "    for _ in range(nsim):\n",
    "        r = g(*args)\n",
    "        acc.append(r)\n",
    "\n",
    "    end = time.perf_counter()\n",
    "\n",
    "    perf = end - start\n",
    "    return acc, perf"
   ]
  },
  {
   "cell_type": "code",
   "execution_count": 18,
   "metadata": {},
   "outputs": [],
   "source": [
    "def var_exp(l):\n",
    "    return - np.log(1 - random()) / l\n",
    "\n",
    "def poisson_nh_slim_imp(tt, intervalos, lambdas):\n",
    "    eventos = [] \n",
    "    nt = 0\n",
    "    j = 0\n",
    "    t = var_exp(lambdas[j])\n",
    "    while t < tt:\n",
    "        if t <= intervalos[j]:\n",
    "            ''' Calcular por adelgazamiento\n",
    "            '''\n",
    "            v = random()\n",
    "            if v < (2 * t + 1) / lambdas[j]:\n",
    "                nt += 1\n",
    "                eventos.append(t)\n",
    "            t += var_exp(lambdas[j])\n",
    "        else:\n",
    "            ''' Avanzar el intervalo\n",
    "            '''\n",
    "            t = intervalos[j] + (t - intervalos[j]) * lambdas[j] / lambdas[j+1]\n",
    "            j += 1\n",
    "    return nt, eventos\n",
    "\n",
    "def hot_dog():\n",
    "    I = [0,1 ,2 ,6 ,8, 9 ]\n",
    "    L = [5,10,15,18,14,12]\n",
    "    return poisson_nh_slim_imp(9,I,L)"
   ]
  },
  {
   "cell_type": "code",
   "execution_count": 19,
   "metadata": {},
   "outputs": [
    {
     "name": "stdout",
     "output_type": "stream",
     "text": [
      "Nro esperado de arribos entre 0 y 9: 81.5381\n"
     ]
    }
   ],
   "source": [
    "seed(1000)\n",
    "acc, perf = get_probs(lambda : hot_dog()[0], 10_000)\n",
    "print(f'Nro esperado de arribos entre 0 y 9: {np.mean(acc)}')"
   ]
  },
  {
   "cell_type": "markdown",
   "metadata": {},
   "source": [
    "# Ejercicio 4"
   ]
  },
  {
   "cell_type": "code",
   "execution_count": 20,
   "metadata": {},
   "outputs": [],
   "source": [
    "def montecarlo_ab_2(fun, a,b, c,d, nsim):\n",
    "    ''' integral Monte Carlo en el intervalo (a,b)x(c,d)\n",
    "    '''\n",
    "    integral = 0\n",
    "    points = []\n",
    "    for _ in range(nsim):\n",
    "        x = a + (b-a)*random()\n",
    "        y = c + (d-c)*random()\n",
    "        r = fun(x, y)\n",
    "        integral += r\n",
    "        if r:\n",
    "            points.append((x,y))\n",
    "            points.append((-x,y))\n",
    "    res = integral*(b-a)*(d-c)/nsim\n",
    "    return res, points"
   ]
  },
  {
   "cell_type": "code",
   "execution_count": 21,
   "metadata": {},
   "outputs": [],
   "source": [
    "f_accept = lambda x, y: int(x**2 + (y - x**(3/2))**2 <= 1)\n",
    "\n",
    "def area(nsim):\n",
    "    xs = [0, 1.5]\n",
    "    ys = [-1.5, 1.5]\n",
    "    aprox, points = montecarlo_ab_2(f_accept, xs[0], xs[1], ys[0], ys[1], nsim)\n",
    "    return 2 * aprox, points"
   ]
  },
  {
   "cell_type": "code",
   "execution_count": 22,
   "metadata": {},
   "outputs": [
    {
     "name": "stdout",
     "output_type": "stream",
     "text": [
      "Area aproximada: 3.1356\n"
     ]
    }
   ],
   "source": [
    "N = 100_000\n",
    "aprox, points = area(N)\n",
    "print(f'Area aproximada: {aprox}')"
   ]
  }
 ],
 "metadata": {
  "kernelspec": {
   "display_name": "MyS-Practicos",
   "language": "python",
   "name": "python3"
  },
  "language_info": {
   "codemirror_mode": {
    "name": "ipython",
    "version": 3
   },
   "file_extension": ".py",
   "mimetype": "text/x-python",
   "name": "python",
   "nbconvert_exporter": "python",
   "pygments_lexer": "ipython3",
   "version": "3.12.3"
  }
 },
 "nbformat": 4,
 "nbformat_minor": 2
}
